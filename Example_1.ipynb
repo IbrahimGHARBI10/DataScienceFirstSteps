{
 "cells": [
  {
   "cell_type": "code",
   "execution_count": 2,
   "metadata": {},
   "outputs": [],
   "source": [
    "import numpy as np\n",
    "import pandas as pd\n",
    "import matplotlib.pyplot as plt\n",
    "import seaborn as sns"
   ]
  },
  {
   "cell_type": "code",
   "execution_count": 3,
   "metadata": {},
   "outputs": [],
   "source": [
    "data=pd.read_csv(\"C:/Users/Brahim/Desktop/brahim/Data/housing_train.csv\")"
   ]
  },
  {
   "cell_type": "code",
   "execution_count": 4,
   "metadata": {},
   "outputs": [
    {
     "data": {
      "text/html": [
       "<div>\n",
       "<style scoped>\n",
       "    .dataframe tbody tr th:only-of-type {\n",
       "        vertical-align: middle;\n",
       "    }\n",
       "\n",
       "    .dataframe tbody tr th {\n",
       "        vertical-align: top;\n",
       "    }\n",
       "\n",
       "    .dataframe thead th {\n",
       "        text-align: right;\n",
       "    }\n",
       "</style>\n",
       "<table border=\"1\" class=\"dataframe\">\n",
       "  <thead>\n",
       "    <tr style=\"text-align: right;\">\n",
       "      <th></th>\n",
       "      <th>id</th>\n",
       "      <th>url</th>\n",
       "      <th>region</th>\n",
       "      <th>region_url</th>\n",
       "      <th>price</th>\n",
       "      <th>type</th>\n",
       "      <th>sqfeet</th>\n",
       "      <th>beds</th>\n",
       "      <th>baths</th>\n",
       "      <th>cats_allowed</th>\n",
       "      <th>...</th>\n",
       "      <th>wheelchair_access</th>\n",
       "      <th>electric_vehicle_charge</th>\n",
       "      <th>comes_furnished</th>\n",
       "      <th>laundry_options</th>\n",
       "      <th>parking_options</th>\n",
       "      <th>image_url</th>\n",
       "      <th>description</th>\n",
       "      <th>lat</th>\n",
       "      <th>long</th>\n",
       "      <th>state</th>\n",
       "    </tr>\n",
       "  </thead>\n",
       "  <tbody>\n",
       "    <tr>\n",
       "      <th>0</th>\n",
       "      <td>7039061606</td>\n",
       "      <td>https://bham.craigslist.org/apa/d/birmingham-h...</td>\n",
       "      <td>birmingham</td>\n",
       "      <td>https://bham.craigslist.org</td>\n",
       "      <td>1195</td>\n",
       "      <td>apartment</td>\n",
       "      <td>1908</td>\n",
       "      <td>3</td>\n",
       "      <td>2.0</td>\n",
       "      <td>1</td>\n",
       "      <td>...</td>\n",
       "      <td>0</td>\n",
       "      <td>0</td>\n",
       "      <td>0</td>\n",
       "      <td>laundry on site</td>\n",
       "      <td>street parking</td>\n",
       "      <td>https://images.craigslist.org/00L0L_80pNkyDeG0...</td>\n",
       "      <td>Apartments In Birmingham AL Welcome to 100 Inv...</td>\n",
       "      <td>33.4226</td>\n",
       "      <td>-86.7065</td>\n",
       "      <td>al</td>\n",
       "    </tr>\n",
       "  </tbody>\n",
       "</table>\n",
       "<p>1 rows × 22 columns</p>\n",
       "</div>"
      ],
      "text/plain": [
       "           id                                                url      region  \\\n",
       "0  7039061606  https://bham.craigslist.org/apa/d/birmingham-h...  birmingham   \n",
       "\n",
       "                    region_url  price       type  sqfeet  beds  baths  \\\n",
       "0  https://bham.craigslist.org   1195  apartment    1908     3    2.0   \n",
       "\n",
       "   cats_allowed  ...  wheelchair_access  electric_vehicle_charge  \\\n",
       "0             1  ...                  0                        0   \n",
       "\n",
       "   comes_furnished  laundry_options  parking_options  \\\n",
       "0                0  laundry on site   street parking   \n",
       "\n",
       "                                           image_url  \\\n",
       "0  https://images.craigslist.org/00L0L_80pNkyDeG0...   \n",
       "\n",
       "                                         description      lat     long  state  \n",
       "0  Apartments In Birmingham AL Welcome to 100 Inv...  33.4226 -86.7065     al  \n",
       "\n",
       "[1 rows x 22 columns]"
      ]
     },
     "execution_count": 4,
     "metadata": {},
     "output_type": "execute_result"
    }
   ],
   "source": [
    "data.head(1)"
   ]
  },
  {
   "cell_type": "code",
   "execution_count": 5,
   "metadata": {},
   "outputs": [],
   "source": [
    "data.dropna(axis='index',how='all',subset=['lat','long'],inplace=True)"
   ]
  },
  {
   "cell_type": "code",
   "execution_count": 6,
   "metadata": {},
   "outputs": [
    {
     "data": {
      "text/plain": [
       "(263771, 22)"
      ]
     },
     "execution_count": 6,
     "metadata": {},
     "output_type": "execute_result"
    }
   ],
   "source": [
    "data.shape"
   ]
  },
  {
   "cell_type": "code",
   "execution_count": 7,
   "metadata": {},
   "outputs": [],
   "source": [
    "dt=data.copy()"
   ]
  },
  {
   "cell_type": "code",
   "execution_count": 8,
   "metadata": {},
   "outputs": [
    {
     "data": {
      "text/plain": [
       "54127"
      ]
     },
     "execution_count": 8,
     "metadata": {},
     "output_type": "execute_result"
    }
   ],
   "source": [
    "dt['laundry_options'].isnull().sum()\n",
    "\n"
   ]
  },
  {
   "cell_type": "code",
   "execution_count": 9,
   "metadata": {},
   "outputs": [],
   "source": [
    "random_sample = dt['laundry_options'].dropna().sample(54127)"
   ]
  },
  {
   "cell_type": "code",
   "execution_count": 10,
   "metadata": {},
   "outputs": [
    {
     "data": {
      "text/plain": [
       "223915    w/d in unit\n",
       "102382    w/d hookups\n",
       "130212    w/d hookups\n",
       "153545    w/d hookups\n",
       "46189     w/d hookups\n",
       "             ...     \n",
       "240152    w/d in unit\n",
       "2970      w/d in unit\n",
       "147560    w/d hookups\n",
       "31709     w/d in unit\n",
       "234129    w/d in unit\n",
       "Name: laundry_options, Length: 54127, dtype: object"
      ]
     },
     "execution_count": 10,
     "metadata": {},
     "output_type": "execute_result"
    }
   ],
   "source": [
    "random_sample"
   ]
  },
  {
   "cell_type": "code",
   "execution_count": 11,
   "metadata": {},
   "outputs": [
    {
     "data": {
      "text/plain": [
       "Int64Index([223915, 102382, 130212, 153545,  46189,  24672, 128151,  43471,\n",
       "            137145, 224852,\n",
       "            ...\n",
       "              8819, 248811, 139304, 107143, 131280, 240152,   2970, 147560,\n",
       "             31709, 234129],\n",
       "           dtype='int64', length=54127)"
      ]
     },
     "execution_count": 11,
     "metadata": {},
     "output_type": "execute_result"
    }
   ],
   "source": [
    "random_sample.index\n"
   ]
  },
  {
   "cell_type": "code",
   "execution_count": 12,
   "metadata": {},
   "outputs": [
    {
     "data": {
      "text/plain": [
       "Int64Index([    10,     49,     62,     64,     65,     73,     77,     78,\n",
       "                79,    101,\n",
       "            ...\n",
       "            265112, 265121, 265124, 265130, 265136, 265157, 265161, 265163,\n",
       "            265174, 265187],\n",
       "           dtype='int64', length=54127)"
      ]
     },
     "execution_count": 12,
     "metadata": {},
     "output_type": "execute_result"
    }
   ],
   "source": [
    "dt[dt['laundry_options'].isnull()].index"
   ]
  },
  {
   "cell_type": "code",
   "execution_count": 13,
   "metadata": {},
   "outputs": [],
   "source": [
    "random_sample.index=dt[dt['laundry_options'].isnull()].index"
   ]
  },
  {
   "cell_type": "code",
   "execution_count": 14,
   "metadata": {},
   "outputs": [
    {
     "data": {
      "text/plain": [
       "Int64Index([    10,     49,     62,     64,     65,     73,     77,     78,\n",
       "                79,    101,\n",
       "            ...\n",
       "            265112, 265121, 265124, 265130, 265136, 265157, 265161, 265163,\n",
       "            265174, 265187],\n",
       "           dtype='int64', length=54127)"
      ]
     },
     "execution_count": 14,
     "metadata": {},
     "output_type": "execute_result"
    }
   ],
   "source": [
    "random_sample.index"
   ]
  },
  {
   "cell_type": "code",
   "execution_count": 15,
   "metadata": {},
   "outputs": [],
   "source": [
    "dt.loc[dt['laundry_options'].isnull(), 'laundry_options']=random_sample"
   ]
  },
  {
   "cell_type": "code",
   "execution_count": 16,
   "metadata": {},
   "outputs": [
    {
     "data": {
      "text/plain": [
       "0"
      ]
     },
     "execution_count": 16,
     "metadata": {},
     "output_type": "execute_result"
    }
   ],
   "source": [
    "dt['laundry_options'].isnull().sum()"
   ]
  },
  {
   "cell_type": "code",
   "execution_count": 17,
   "metadata": {},
   "outputs": [
    {
     "data": {
      "text/plain": [
       "<AxesSubplot:>"
      ]
     },
     "execution_count": 17,
     "metadata": {},
     "output_type": "execute_result"
    },
    {
     "data": {
      "image/png": "[encoded data removed]",
      "text/plain": [
       "<Figure size 432x288 with 1 Axes>"
      ]
     },
     "metadata": {
      "needs_background": "light"
     },
     "output_type": "display_data"
    }
   ],
   "source": [
    "dt['laundry_options'].value_counts().plot(kind='bar')"
   ]
  },
  {
   "cell_type": "code",
   "execution_count": 18,
   "metadata": {},
   "outputs": [
    {
     "name": "stdout",
     "output_type": "stream",
     "text": [
      "Requirement already satisfied: wordcloud in c:\\programdata\\anaconda3\\lib\\site-packages (1.8.1)\n",
      "Requirement already satisfied: numpy>=1.6.1 in c:\\programdata\\anaconda3\\lib\\site-packages (from wordcloud) (1.20.1)\n",
      "Requirement already satisfied: matplotlib in c:\\programdata\\anaconda3\\lib\\site-packages (from wordcloud) (3.3.4)\n",
      "Requirement already satisfied: pillow in c:\\programdata\\anaconda3\\lib\\site-packages (from wordcloud) (8.2.0)\n",
      "Requirement already satisfied: cycler>=0.10 in c:\\programdata\\anaconda3\\lib\\site-packages (from matplotlib->wordcloud) (0.10.0)\n",
      "Requirement already satisfied: pyparsing!=2.0.4,!=2.1.2,!=2.1.6,>=2.0.3 in c:\\programdata\\anaconda3\\lib\\site-packages (from matplotlib->wordcloud) (2.4.7)\n",
      "Requirement already satisfied: kiwisolver>=1.0.1 in c:\\programdata\\anaconda3\\lib\\site-packages (from matplotlib->wordcloud) (1.3.1)\n",
      "Requirement already satisfied: python-dateutil>=2.1 in c:\\programdata\\anaconda3\\lib\\site-packages (from matplotlib->wordcloud) (2.8.1)\n",
      "Requirement already satisfied: six in c:\\programdata\\anaconda3\\lib\\site-packages (from cycler>=0.10->matplotlib->wordcloud) (1.15.0)\n",
      "Note: you may need to restart the kernel to use updated packages.\n"
     ]
    }
   ],
   "source": [
    "pip install wordcloud"
   ]
  },
  {
   "cell_type": "code",
   "execution_count": 19,
   "metadata": {},
   "outputs": [],
   "source": [
    "imp_features=['price','beds','baths','sqfeet']"
   ]
  },
  {
   "cell_type": "code",
   "execution_count": 20,
   "metadata": {},
   "outputs": [
    {
     "name": "stderr",
     "output_type": "stream",
     "text": [
      "C:\\ProgramData\\Anaconda3\\lib\\site-packages\\seaborn\\_decorators.py:36: FutureWarning: Pass the following variable as a keyword arg: x. From version 0.12, the only valid positional argument will be `data`, and passing other arguments without an explicit keyword will result in an error or misinterpretation.\n",
      "  warnings.warn(\n",
      "C:\\ProgramData\\Anaconda3\\lib\\site-packages\\seaborn\\_decorators.py:36: FutureWarning: Pass the following variable as a keyword arg: x. From version 0.12, the only valid positional argument will be `data`, and passing other arguments without an explicit keyword will result in an error or misinterpretation.\n",
      "  warnings.warn(\n"
     ]
    },
    {
     "data": {
      "text/plain": [
       "<AxesSubplot:xlabel='baths'>"
      ]
     },
     "execution_count": 20,
     "metadata": {},
     "output_type": "execute_result"
    },
    {
     "data": {
      "image/png": "[encoded data removed]",
      "text/plain": [
       "<Figure size 432x288 with 1 Axes>"
      ]
     },
     "metadata": {
      "needs_background": "light"
     },
     "output_type": "display_data"
    }
   ],
   "source": [
    "sns.stripplot(dt['baths'])\n",
    "sns.boxplot(dt['baths'])"
   ]
  },
  {
   "cell_type": "code",
   "execution_count": 21,
   "metadata": {},
   "outputs": [
    {
     "name": "stderr",
     "output_type": "stream",
     "text": [
      "C:\\ProgramData\\Anaconda3\\lib\\site-packages\\seaborn\\_decorators.py:36: FutureWarning: Pass the following variable as a keyword arg: x. From version 0.12, the only valid positional argument will be `data`, and passing other arguments without an explicit keyword will result in an error or misinterpretation.\n",
      "  warnings.warn(\n",
      "C:\\ProgramData\\Anaconda3\\lib\\site-packages\\seaborn\\_decorators.py:36: FutureWarning: Pass the following variable as a keyword arg: x. From version 0.12, the only valid positional argument will be `data`, and passing other arguments without an explicit keyword will result in an error or misinterpretation.\n",
      "  warnings.warn(\n",
      "C:\\ProgramData\\Anaconda3\\lib\\site-packages\\seaborn\\_decorators.py:36: FutureWarning: Pass the following variable as a keyword arg: x. From version 0.12, the only valid positional argument will be `data`, and passing other arguments without an explicit keyword will result in an error or misinterpretation.\n",
      "  warnings.warn(\n",
      "C:\\ProgramData\\Anaconda3\\lib\\site-packages\\seaborn\\_decorators.py:36: FutureWarning: Pass the following variable as a keyword arg: x. From version 0.12, the only valid positional argument will be `data`, and passing other arguments without an explicit keyword will result in an error or misinterpretation.\n",
      "  warnings.warn(\n",
      "C:\\ProgramData\\Anaconda3\\lib\\site-packages\\seaborn\\_decorators.py:36: FutureWarning: Pass the following variable as a keyword arg: x. From version 0.12, the only valid positional argument will be `data`, and passing other arguments without an explicit keyword will result in an error or misinterpretation.\n",
      "  warnings.warn(\n",
      "C:\\ProgramData\\Anaconda3\\lib\\site-packages\\seaborn\\_decorators.py:36: FutureWarning: Pass the following variable as a keyword arg: x. From version 0.12, the only valid positional argument will be `data`, and passing other arguments without an explicit keyword will result in an error or misinterpretation.\n",
      "  warnings.warn(\n",
      "C:\\ProgramData\\Anaconda3\\lib\\site-packages\\seaborn\\_decorators.py:36: FutureWarning: Pass the following variable as a keyword arg: x. From version 0.12, the only valid positional argument will be `data`, and passing other arguments without an explicit keyword will result in an error or misinterpretation.\n",
      "  warnings.warn(\n",
      "C:\\ProgramData\\Anaconda3\\lib\\site-packages\\seaborn\\_decorators.py:36: FutureWarning: Pass the following variable as a keyword arg: x. From version 0.12, the only valid positional argument will be `data`, and passing other arguments without an explicit keyword will result in an error or misinterpretation.\n",
      "  warnings.warn(\n"
     ]
    },
    {
     "data": {
      "image/png": "[encoded data removed]",
      "text/plain": [
       "<Figure size 432x288 with 1 Axes>"
      ]
     },
     "metadata": {
      "needs_background": "light"
     },
     "output_type": "display_data"
    },
    {
     "data": {
      "image/png": "[encoded data removed]",
      "text/plain": [
       "<Figure size 432x288 with 1 Axes>"
      ]
     },
     "metadata": {
      "needs_background": "light"
     },
     "output_type": "display_data"
    },
    {
     "data": {
      "image/png": "[encoded data removed]",
      "text/plain": [
       "<Figure size 432x288 with 1 Axes>"
      ]
     },
     "metadata": {
      "needs_background": "light"
     },
     "output_type": "display_data"
    },
    {
     "data": {
      "image/png": "[encoded data removed]",
      "text/plain": [
       "<Figure size 432x288 with 1 Axes>"
      ]
     },
     "metadata": {
      "needs_background": "light"
     },
     "output_type": "display_data"
    }
   ],
   "source": [
    "for feature in imp_features:\n",
    "    plt.figure()\n",
    "    sns.stripplot(dt[feature])\n",
    "    sns.boxplot(dt[feature])"
   ]
  },
  {
   "cell_type": "code",
   "execution_count": 22,
   "metadata": {},
   "outputs": [],
   "source": [
    "import statsmodels.api as sm"
   ]
  },
  {
   "cell_type": "code",
   "execution_count": 23,
   "metadata": {},
   "outputs": [],
   "source": [
    "def qq_plots(zebi,col):\n",
    "    plt.figure(figsize=(14,10))\n",
    "    sm.qqplot(zebi[col], line ='45')\n",
    "    plt.title('Normal QQplot of {}'.format(col))"
   ]
  },
  {
   "cell_type": "code",
   "execution_count": 24,
   "metadata": {},
   "outputs": [
    {
     "data": {
      "text/plain": [
       "<Figure size 1008x720 with 0 Axes>"
      ]
     },
     "metadata": {},
     "output_type": "display_data"
    },
    {
     "data": {
      "image/png": "[encoded data removed]",
      "text/plain": [
       "<Figure size 432x288 with 1 Axes>"
      ]
     },
     "metadata": {
      "needs_background": "light"
     },
     "output_type": "display_data"
    },
    {
     "data": {
      "text/plain": [
       "<Figure size 1008x720 with 0 Axes>"
      ]
     },
     "metadata": {},
     "output_type": "display_data"
    },
    {
     "data": {
      "image/png": "[encoded data removed]",
      "text/plain": [
       "<Figure size 432x288 with 1 Axes>"
      ]
     },
     "metadata": {
      "needs_background": "light"
     },
     "output_type": "display_data"
    },
    {
     "data": {
      "text/plain": [
       "<Figure size 1008x720 with 0 Axes>"
      ]
     },
     "metadata": {},
     "output_type": "display_data"
    },
    {
     "data": {
      "image/png": "[encoded data removed]",
      "text/plain": [
       "<Figure size 432x288 with 1 Axes>"
      ]
     },
     "metadata": {
      "needs_background": "light"
     },
     "output_type": "display_data"
    },
    {
     "data": {
      "text/plain": [
       "<Figure size 1008x720 with 0 Axes>"
      ]
     },
     "metadata": {},
     "output_type": "display_data"
    },
    {
     "data": {
      "image/png": "[encoded data removed]",
      "text/plain": [
       "<Figure size 432x288 with 1 Axes>"
      ]
     },
     "metadata": {
      "needs_background": "light"
     },
     "output_type": "display_data"
    }
   ],
   "source": [
    "for feature in imp_features:\n",
    "    qq_plots(dt,feature)\n",
    "    "
   ]
  },
  {
   "cell_type": "code",
   "execution_count": 25,
   "metadata": {},
   "outputs": [],
   "source": [
    "cr=dt.copy()"
   ]
  },
  {
   "cell_type": "code",
   "execution_count": 26,
   "metadata": {},
   "outputs": [
    {
     "data": {
      "text/plain": [
       "12330.078647766433"
      ]
     },
     "execution_count": 26,
     "metadata": {},
     "output_type": "execute_result"
    }
   ],
   "source": [
    "cr['price'].mean()"
   ]
  },
  {
   "cell_type": "code",
   "execution_count": 27,
   "metadata": {},
   "outputs": [
    {
     "data": {
      "text/plain": [
       "1060.0"
      ]
     },
     "execution_count": 27,
     "metadata": {},
     "output_type": "execute_result"
    }
   ],
   "source": [
    "cr['price'].median()\n",
    "\n"
   ]
  },
  {
   "cell_type": "code",
   "execution_count": 28,
   "metadata": {},
   "outputs": [],
   "source": [
    "cr['price']=np.where(cr['price']>5000,cr['price'].median(),cr['price'])"
   ]
  },
  {
   "cell_type": "code",
   "execution_count": 29,
   "metadata": {},
   "outputs": [
    {
     "data": {
      "text/plain": [
       "1207.3528515265136"
      ]
     },
     "execution_count": 29,
     "metadata": {},
     "output_type": "execute_result"
    }
   ],
   "source": [
    "cr['price'].mean()"
   ]
  },
  {
   "cell_type": "code",
   "execution_count": 30,
   "metadata": {},
   "outputs": [],
   "source": [
    "def deal_with_features (feature,three):\n",
    "    cr[feature]=np.where(cr[feature]>three,cr[feature].median(),cr[feature])\n",
    "    "
   ]
  },
  {
   "cell_type": "code",
   "execution_count": 31,
   "metadata": {},
   "outputs": [
    {
     "data": {
      "text/plain": [
       "195751    8388607\n",
       "7862      8000000\n",
       "42751     1019856\n",
       "42752     1019856\n",
       "63022      999999\n",
       "           ...   \n",
       "22519        5000\n",
       "30498        5000\n",
       "31092        5000\n",
       "31294        5000\n",
       "35225        5000\n",
       "Name: sqfeet, Length: 200, dtype: int64"
      ]
     },
     "execution_count": 31,
     "metadata": {},
     "output_type": "execute_result"
    }
   ],
   "source": [
    "cr['sqfeet'].nlargest(200)"
   ]
  },
  {
   "cell_type": "code",
   "execution_count": 32,
   "metadata": {},
   "outputs": [],
   "source": [
    "deal_with_features('sqfeet',5000)"
   ]
  },
  {
   "cell_type": "code",
   "execution_count": 33,
   "metadata": {},
   "outputs": [
    {
     "name": "stderr",
     "output_type": "stream",
     "text": [
      "C:\\ProgramData\\Anaconda3\\lib\\site-packages\\seaborn\\distributions.py:2557: FutureWarning: `distplot` is a deprecated function and will be removed in a future version. Please adapt your code to use either `displot` (a figure-level function with similar flexibility) or `histplot` (an axes-level function for histograms).\n",
      "  warnings.warn(msg, FutureWarning)\n"
     ]
    },
    {
     "data": {
      "text/plain": [
       "<AxesSubplot:xlabel='sqfeet', ylabel='Density'>"
      ]
     },
     "execution_count": 33,
     "metadata": {},
     "output_type": "execute_result"
    },
    {
     "data": {
      "image/png": "[encoded data removed]",
      "text/plain": [
       "<Figure size 432x288 with 1 Axes>"
      ]
     },
     "metadata": {
      "needs_background": "light"
     },
     "output_type": "display_data"
    }
   ],
   "source": [
    "sns.distplot(cr['sqfeet'])"
   ]
  },
  {
   "cell_type": "code",
   "execution_count": 34,
   "metadata": {},
   "outputs": [
    {
     "name": "stderr",
     "output_type": "stream",
     "text": [
      "C:\\ProgramData\\Anaconda3\\lib\\site-packages\\seaborn\\distributions.py:2557: FutureWarning: `distplot` is a deprecated function and will be removed in a future version. Please adapt your code to use either `displot` (a figure-level function with similar flexibility) or `kdeplot` (an axes-level function for kernel density plots).\n",
      "  warnings.warn(msg, FutureWarning)\n",
      "C:\\ProgramData\\Anaconda3\\lib\\site-packages\\seaborn\\distributions.py:2557: FutureWarning: `distplot` is a deprecated function and will be removed in a future version. Please adapt your code to use either `displot` (a figure-level function with similar flexibility) or `kdeplot` (an axes-level function for kernel density plots).\n",
      "  warnings.warn(msg, FutureWarning)\n",
      "No handles with labels found to put in legend.\n"
     ]
    },
    {
     "data": {
      "text/plain": [
       "<matplotlib.legend.Legend at 0x1e01319df70>"
      ]
     },
     "execution_count": 34,
     "metadata": {},
     "output_type": "execute_result"
    },
    {
     "data": {
      "image/png": "[encoded data removed]",
      "text/plain": [
       "<Figure size 432x288 with 1 Axes>"
      ]
     },
     "metadata": {
      "needs_background": "light"
     },
     "output_type": "display_data"
    }
   ],
   "source": [
    "sns.distplot(cr[cr['dogs_allowed']==0]['price'],hist=False)\n",
    "sns.distplot(cr[cr['dogs_allowed']==1]['price'],hist=False)\n",
    "plt.legend()"
   ]
  },
  {
   "cell_type": "code",
   "execution_count": 35,
   "metadata": {},
   "outputs": [
    {
     "data": {
      "text/html": [
       "<style  type=\"text/css\" >\n",
       "#T_3bffc_row0_col0,#T_3bffc_row1_col1,#T_3bffc_row2_col2,#T_3bffc_row3_col3,#T_3bffc_row4_col4,#T_3bffc_row5_col5,#T_3bffc_row6_col6,#T_3bffc_row7_col7,#T_3bffc_row8_col8,#T_3bffc_row9_col9,#T_3bffc_row10_col10,#T_3bffc_row11_col11,#T_3bffc_row12_col12{\n",
       "            background-color:  #08306b;\n",
       "            color:  #f1f1f1;\n",
       "        }#T_3bffc_row0_col1,#T_3bffc_row9_col1{\n",
       "            background-color:  #b9d6ea;\n",
       "            color:  #000000;\n",
       "        }#T_3bffc_row0_col2,#T_3bffc_row6_col2{\n",
       "            background-color:  #f0f6fd;\n",
       "            color:  #000000;\n",
       "        }#T_3bffc_row0_col3,#T_3bffc_row1_col12,#T_3bffc_row2_col5,#T_3bffc_row5_col2,#T_3bffc_row5_col3,#T_3bffc_row7_col8,#T_3bffc_row7_col9,#T_3bffc_row7_col10,#T_3bffc_row7_col11,#T_3bffc_row8_col7,#T_3bffc_row10_col5,#T_3bffc_row10_col6,#T_3bffc_row11_col4,#T_3bffc_row11_col6,#T_3bffc_row12_col0,#T_3bffc_row12_col1{\n",
       "            background-color:  #f7fbff;\n",
       "            color:  #000000;\n",
       "        }#T_3bffc_row0_col4,#T_3bffc_row1_col3,#T_3bffc_row5_col10{\n",
       "            background-color:  #eaf3fb;\n",
       "            color:  #000000;\n",
       "        }#T_3bffc_row0_col5,#T_3bffc_row5_col11,#T_3bffc_row6_col4,#T_3bffc_row7_col0,#T_3bffc_row8_col0,#T_3bffc_row9_col6{\n",
       "            background-color:  #e3eef8;\n",
       "            color:  #000000;\n",
       "        }#T_3bffc_row0_col6,#T_3bffc_row3_col0{\n",
       "            background-color:  #e8f1fa;\n",
       "            color:  #000000;\n",
       "        }#T_3bffc_row0_col7{\n",
       "            background-color:  #d4e4f4;\n",
       "            color:  #000000;\n",
       "        }#T_3bffc_row0_col8,#T_3bffc_row8_col5{\n",
       "            background-color:  #d3e4f3;\n",
       "            color:  #000000;\n",
       "        }#T_3bffc_row0_col9,#T_3bffc_row0_col11,#T_3bffc_row7_col5,#T_3bffc_row12_col2{\n",
       "            background-color:  #e2edf8;\n",
       "            color:  #000000;\n",
       "        }#T_3bffc_row0_col10,#T_3bffc_row9_col0,#T_3bffc_row12_col10{\n",
       "            background-color:  #e1edf8;\n",
       "            color:  #000000;\n",
       "        }#T_3bffc_row0_col12{\n",
       "            background-color:  #e4eff9;\n",
       "            color:  #000000;\n",
       "        }#T_3bffc_row1_col0,#T_3bffc_row1_col9,#T_3bffc_row3_col1{\n",
       "            background-color:  #cddff1;\n",
       "            color:  #000000;\n",
       "        }#T_3bffc_row1_col2,#T_3bffc_row4_col1{\n",
       "            background-color:  #9dcae1;\n",
       "            color:  #000000;\n",
       "        }#T_3bffc_row1_col4{\n",
       "            background-color:  #b4d3e9;\n",
       "            color:  #000000;\n",
       "        }#T_3bffc_row1_col5,#T_3bffc_row1_col7,#T_3bffc_row12_col9{\n",
       "            background-color:  #f1f7fd;\n",
       "            color:  #000000;\n",
       "        }#T_3bffc_row1_col6,#T_3bffc_row10_col3,#T_3bffc_row11_col3{\n",
       "            background-color:  #f3f8fe;\n",
       "            color:  #000000;\n",
       "        }#T_3bffc_row1_col8{\n",
       "            background-color:  #c8dcf0;\n",
       "            color:  #000000;\n",
       "        }#T_3bffc_row1_col10,#T_3bffc_row6_col1,#T_3bffc_row11_col1{\n",
       "            background-color:  #d9e8f5;\n",
       "            color:  #000000;\n",
       "        }#T_3bffc_row1_col11,#T_3bffc_row6_col10,#T_3bffc_row7_col6,#T_3bffc_row12_col4{\n",
       "            background-color:  #e7f0fa;\n",
       "            color:  #000000;\n",
       "        }#T_3bffc_row2_col0{\n",
       "            background-color:  #ecf4fb;\n",
       "            color:  #000000;\n",
       "        }#T_3bffc_row2_col1{\n",
       "            background-color:  #81badb;\n",
       "            color:  #000000;\n",
       "        }#T_3bffc_row2_col3,#T_3bffc_row9_col10{\n",
       "            background-color:  #d2e3f3;\n",
       "            color:  #000000;\n",
       "        }#T_3bffc_row2_col4{\n",
       "            background-color:  #3e8ec4;\n",
       "            color:  #000000;\n",
       "        }#T_3bffc_row2_col6,#T_3bffc_row7_col3{\n",
       "            background-color:  #f4f9fe;\n",
       "            color:  #000000;\n",
       "        }#T_3bffc_row2_col7,#T_3bffc_row9_col12,#T_3bffc_row10_col4{\n",
       "            background-color:  #deebf7;\n",
       "            color:  #000000;\n",
       "        }#T_3bffc_row2_col8,#T_3bffc_row3_col7{\n",
       "            background-color:  #d6e5f4;\n",
       "            color:  #000000;\n",
       "        }#T_3bffc_row2_col9,#T_3bffc_row4_col9,#T_3bffc_row8_col11,#T_3bffc_row9_col4,#T_3bffc_row11_col9{\n",
       "            background-color:  #e3eef9;\n",
       "            color:  #000000;\n",
       "        }#T_3bffc_row2_col10,#T_3bffc_row5_col1{\n",
       "            background-color:  #dae8f6;\n",
       "            color:  #000000;\n",
       "        }#T_3bffc_row2_col11,#T_3bffc_row6_col0,#T_3bffc_row8_col4,#T_3bffc_row10_col11{\n",
       "            background-color:  #e0ecf8;\n",
       "            color:  #000000;\n",
       "        }#T_3bffc_row2_col12{\n",
       "            background-color:  #cee0f2;\n",
       "            color:  #000000;\n",
       "        }#T_3bffc_row3_col2{\n",
       "            background-color:  #c9ddf0;\n",
       "            color:  #000000;\n",
       "        }#T_3bffc_row3_col4{\n",
       "            background-color:  #68acd5;\n",
       "            color:  #000000;\n",
       "        }#T_3bffc_row3_col5,#T_3bffc_row4_col5,#T_3bffc_row12_col11{\n",
       "            background-color:  #edf4fc;\n",
       "            color:  #000000;\n",
       "        }#T_3bffc_row3_col6{\n",
       "            background-color:  #eff6fc;\n",
       "            color:  #000000;\n",
       "        }#T_3bffc_row3_col8,#T_3bffc_row10_col12,#T_3bffc_row12_col8{\n",
       "            background-color:  #d7e6f5;\n",
       "            color:  #000000;\n",
       "        }#T_3bffc_row3_col9,#T_3bffc_row9_col7,#T_3bffc_row10_col2,#T_3bffc_row11_col0{\n",
       "            background-color:  #e6f0f9;\n",
       "            color:  #000000;\n",
       "        }#T_3bffc_row3_col10{\n",
       "            background-color:  #dceaf6;\n",
       "            color:  #000000;\n",
       "        }#T_3bffc_row3_col11{\n",
       "            background-color:  #dfecf7;\n",
       "            color:  #000000;\n",
       "        }#T_3bffc_row3_col12{\n",
       "            background-color:  #d3e3f3;\n",
       "            color:  #000000;\n",
       "        }#T_3bffc_row4_col0,#T_3bffc_row4_col6,#T_3bffc_row5_col4,#T_3bffc_row6_col11{\n",
       "            background-color:  #eaf2fb;\n",
       "            color:  #000000;\n",
       "        }#T_3bffc_row4_col2{\n",
       "            background-color:  #3f8fc5;\n",
       "            color:  #000000;\n",
       "        }#T_3bffc_row4_col3{\n",
       "            background-color:  #77b5d9;\n",
       "            color:  #000000;\n",
       "        }#T_3bffc_row4_col7,#T_3bffc_row10_col9,#T_3bffc_row11_col8{\n",
       "            background-color:  #d9e7f5;\n",
       "            color:  #000000;\n",
       "        }#T_3bffc_row4_col8{\n",
       "            background-color:  #d1e2f3;\n",
       "            color:  #000000;\n",
       "        }#T_3bffc_row4_col10{\n",
       "            background-color:  #d6e6f4;\n",
       "            color:  #000000;\n",
       "        }#T_3bffc_row4_col11{\n",
       "            background-color:  #f2f7fd;\n",
       "            color:  #000000;\n",
       "        }#T_3bffc_row4_col12,#T_3bffc_row8_col6,#T_3bffc_row8_col12{\n",
       "            background-color:  #d5e5f4;\n",
       "            color:  #000000;\n",
       "        }#T_3bffc_row5_col0,#T_3bffc_row9_col5,#T_3bffc_row9_col11,#T_3bffc_row11_col12,#T_3bffc_row12_col5{\n",
       "            background-color:  #dfebf7;\n",
       "            color:  #000000;\n",
       "        }#T_3bffc_row5_col6{\n",
       "            background-color:  #084c95;\n",
       "            color:  #f1f1f1;\n",
       "        }#T_3bffc_row5_col7{\n",
       "            background-color:  #d0e1f2;\n",
       "            color:  #000000;\n",
       "        }#T_3bffc_row5_col8,#T_3bffc_row12_col7{\n",
       "            background-color:  #c1d9ed;\n",
       "            color:  #000000;\n",
       "        }#T_3bffc_row5_col9,#T_3bffc_row6_col9{\n",
       "            background-color:  #dce9f6;\n",
       "            color:  #000000;\n",
       "        }#T_3bffc_row5_col12{\n",
       "            background-color:  #cbdef1;\n",
       "            color:  #000000;\n",
       "        }#T_3bffc_row6_col3{\n",
       "            background-color:  #f5fafe;\n",
       "            color:  #000000;\n",
       "        }#T_3bffc_row6_col5{\n",
       "            background-color:  #084b93;\n",
       "            color:  #f1f1f1;\n",
       "        }#T_3bffc_row6_col7,#T_3bffc_row10_col1{\n",
       "            background-color:  #d0e2f2;\n",
       "            color:  #000000;\n",
       "        }#T_3bffc_row6_col8,#T_3bffc_row7_col12{\n",
       "            background-color:  #bed8ec;\n",
       "            color:  #000000;\n",
       "        }#T_3bffc_row6_col12{\n",
       "            background-color:  #cde0f1;\n",
       "            color:  #000000;\n",
       "        }#T_3bffc_row7_col1,#T_3bffc_row10_col7{\n",
       "            background-color:  #eef5fc;\n",
       "            color:  #000000;\n",
       "        }#T_3bffc_row7_col2,#T_3bffc_row12_col3{\n",
       "            background-color:  #f2f8fd;\n",
       "            color:  #000000;\n",
       "        }#T_3bffc_row7_col4,#T_3bffc_row8_col2,#T_3bffc_row10_col0,#T_3bffc_row11_col2{\n",
       "            background-color:  #e9f2fa;\n",
       "            color:  #000000;\n",
       "        }#T_3bffc_row8_col1{\n",
       "            background-color:  #c7dbef;\n",
       "            color:  #000000;\n",
       "        }#T_3bffc_row8_col3,#T_3bffc_row9_col3{\n",
       "            background-color:  #f5f9fe;\n",
       "            color:  #000000;\n",
       "        }#T_3bffc_row8_col9{\n",
       "            background-color:  #bdd7ec;\n",
       "            color:  #000000;\n",
       "        }#T_3bffc_row8_col10{\n",
       "            background-color:  #c2d9ee;\n",
       "            color:  #000000;\n",
       "        }#T_3bffc_row9_col2{\n",
       "            background-color:  #e7f1fa;\n",
       "            color:  #000000;\n",
       "        }#T_3bffc_row9_col8{\n",
       "            background-color:  #a9cfe5;\n",
       "            color:  #000000;\n",
       "        }#T_3bffc_row10_col8{\n",
       "            background-color:  #b8d5ea;\n",
       "            color:  #000000;\n",
       "        }#T_3bffc_row11_col5,#T_3bffc_row11_col7{\n",
       "            background-color:  #ebf3fb;\n",
       "            color:  #000000;\n",
       "        }#T_3bffc_row11_col10{\n",
       "            background-color:  #ddeaf7;\n",
       "            color:  #000000;\n",
       "        }#T_3bffc_row12_col6{\n",
       "            background-color:  #e5eff9;\n",
       "            color:  #000000;\n",
       "        }</style><table id=\"T_3bffc_\" ><thead>    <tr>        <th class=\"blank level0\" ></th>        <th class=\"col_heading level0 col0\" >id</th>        <th class=\"col_heading level0 col1\" >price</th>        <th class=\"col_heading level0 col2\" >sqfeet</th>        <th class=\"col_heading level0 col3\" >beds</th>        <th class=\"col_heading level0 col4\" >baths</th>        <th class=\"col_heading level0 col5\" >cats_allowed</th>        <th class=\"col_heading level0 col6\" >dogs_allowed</th>        <th class=\"col_heading level0 col7\" >smoking_allowed</th>        <th class=\"col_heading level0 col8\" >wheelchair_access</th>        <th class=\"col_heading level0 col9\" >electric_vehicle_charge</th>        <th class=\"col_heading level0 col10\" >comes_furnished</th>        <th class=\"col_heading level0 col11\" >lat</th>        <th class=\"col_heading level0 col12\" >long</th>    </tr></thead><tbody>\n",
       "                <tr>\n",
       "                        <th id=\"T_3bffc_level0_row0\" class=\"row_heading level0 row0\" >id</th>\n",
       "                        <td id=\"T_3bffc_row0_col0\" class=\"data row0 col0\" >1.000000</td>\n",
       "                        <td id=\"T_3bffc_row0_col1\" class=\"data row0 col1\" >0.134772</td>\n",
       "                        <td id=\"T_3bffc_row0_col2\" class=\"data row0 col2\" >-0.038769</td>\n",
       "                        <td id=\"T_3bffc_row0_col3\" class=\"data row0 col3\" >-0.017795</td>\n",
       "                        <td id=\"T_3bffc_row0_col4\" class=\"data row0 col4\" >-0.028081</td>\n",
       "                        <td id=\"T_3bffc_row0_col5\" class=\"data row0 col5\" >0.034818</td>\n",
       "                        <td id=\"T_3bffc_row0_col6\" class=\"data row0 col6\" >0.024426</td>\n",
       "                        <td id=\"T_3bffc_row0_col7\" class=\"data row0 col7\" >0.011674</td>\n",
       "                        <td id=\"T_3bffc_row0_col8\" class=\"data row0 col8\" >0.012306</td>\n",
       "                        <td id=\"T_3bffc_row0_col9\" class=\"data row0 col9\" >0.019057</td>\n",
       "                        <td id=\"T_3bffc_row0_col10\" class=\"data row0 col10\" >-0.022436</td>\n",
       "                        <td id=\"T_3bffc_row0_col11\" class=\"data row0 col11\" >-0.006378</td>\n",
       "                        <td id=\"T_3bffc_row0_col12\" class=\"data row0 col12\" >-0.102851</td>\n",
       "            </tr>\n",
       "            <tr>\n",
       "                        <th id=\"T_3bffc_level0_row1\" class=\"row_heading level0 row1\" >price</th>\n",
       "                        <td id=\"T_3bffc_row1_col0\" class=\"data row1 col0\" >0.134772</td>\n",
       "                        <td id=\"T_3bffc_row1_col1\" class=\"data row1 col1\" >1.000000</td>\n",
       "                        <td id=\"T_3bffc_row1_col2\" class=\"data row1 col2\" >0.326490</td>\n",
       "                        <td id=\"T_3bffc_row1_col3\" class=\"data row1 col3\" >0.047703</td>\n",
       "                        <td id=\"T_3bffc_row1_col4\" class=\"data row1 col4\" >0.239325</td>\n",
       "                        <td id=\"T_3bffc_row1_col5\" class=\"data row1 col5\" >-0.042037</td>\n",
       "                        <td id=\"T_3bffc_row1_col6\" class=\"data row1 col6\" >-0.033900</td>\n",
       "                        <td id=\"T_3bffc_row1_col7\" class=\"data row1 col7\" >-0.165164</td>\n",
       "                        <td id=\"T_3bffc_row1_col8\" class=\"data row1 col8\" >0.085760</td>\n",
       "                        <td id=\"T_3bffc_row1_col9\" class=\"data row1 col9\" >0.137642</td>\n",
       "                        <td id=\"T_3bffc_row1_col10\" class=\"data row1 col10\" >0.023183</td>\n",
       "                        <td id=\"T_3bffc_row1_col11\" class=\"data row1 col11\" >-0.034644</td>\n",
       "                        <td id=\"T_3bffc_row1_col12\" class=\"data row1 col12\" >-0.218584</td>\n",
       "            </tr>\n",
       "            <tr>\n",
       "                        <th id=\"T_3bffc_level0_row2\" class=\"row_heading level0 row2\" >sqfeet</th>\n",
       "                        <td id=\"T_3bffc_row2_col0\" class=\"data row2 col0\" >-0.038769</td>\n",
       "                        <td id=\"T_3bffc_row2_col1\" class=\"data row2 col1\" >0.326490</td>\n",
       "                        <td id=\"T_3bffc_row2_col2\" class=\"data row2 col2\" >1.000000</td>\n",
       "                        <td id=\"T_3bffc_row2_col3\" class=\"data row2 col3\" >0.174998</td>\n",
       "                        <td id=\"T_3bffc_row2_col4\" class=\"data row2 col4\" >0.604643</td>\n",
       "                        <td id=\"T_3bffc_row2_col5\" class=\"data row2 col5\" >-0.078665</td>\n",
       "                        <td id=\"T_3bffc_row2_col6\" class=\"data row2 col6\" >-0.036908</td>\n",
       "                        <td id=\"T_3bffc_row2_col7\" class=\"data row2 col7\" >-0.051534</td>\n",
       "                        <td id=\"T_3bffc_row2_col8\" class=\"data row2 col8\" >-0.000421</td>\n",
       "                        <td id=\"T_3bffc_row2_col9\" class=\"data row2 col9\" >0.007912</td>\n",
       "                        <td id=\"T_3bffc_row2_col10\" class=\"data row2 col10\" >0.017238</td>\n",
       "                        <td id=\"T_3bffc_row2_col11\" class=\"data row2 col11\" >-0.000621</td>\n",
       "                        <td id=\"T_3bffc_row2_col12\" class=\"data row2 col12\" >0.037274</td>\n",
       "            </tr>\n",
       "            <tr>\n",
       "                        <th id=\"T_3bffc_level0_row3\" class=\"row_heading level0 row3\" >beds</th>\n",
       "                        <td id=\"T_3bffc_row3_col0\" class=\"data row3 col0\" >-0.017795</td>\n",
       "                        <td id=\"T_3bffc_row3_col1\" class=\"data row3 col1\" >0.047703</td>\n",
       "                        <td id=\"T_3bffc_row3_col2\" class=\"data row3 col2\" >0.174998</td>\n",
       "                        <td id=\"T_3bffc_row3_col3\" class=\"data row3 col3\" >1.000000</td>\n",
       "                        <td id=\"T_3bffc_row3_col4\" class=\"data row3 col4\" >0.461113</td>\n",
       "                        <td id=\"T_3bffc_row3_col5\" class=\"data row3 col5\" >-0.019932</td>\n",
       "                        <td id=\"T_3bffc_row3_col6\" class=\"data row3 col6\" >-0.011197</td>\n",
       "                        <td id=\"T_3bffc_row3_col7\" class=\"data row3 col7\" >-0.001459</td>\n",
       "                        <td id=\"T_3bffc_row3_col8\" class=\"data row3 col8\" >-0.007548</td>\n",
       "                        <td id=\"T_3bffc_row3_col9\" class=\"data row3 col9\" >-0.004752</td>\n",
       "                        <td id=\"T_3bffc_row3_col10\" class=\"data row3 col10\" >0.003488</td>\n",
       "                        <td id=\"T_3bffc_row3_col11\" class=\"data row3 col11\" >0.003749</td>\n",
       "                        <td id=\"T_3bffc_row3_col12\" class=\"data row3 col12\" >0.006212</td>\n",
       "            </tr>\n",
       "            <tr>\n",
       "                        <th id=\"T_3bffc_level0_row4\" class=\"row_heading level0 row4\" >baths</th>\n",
       "                        <td id=\"T_3bffc_row4_col0\" class=\"data row4 col0\" >-0.028081</td>\n",
       "                        <td id=\"T_3bffc_row4_col1\" class=\"data row4 col1\" >0.239325</td>\n",
       "                        <td id=\"T_3bffc_row4_col2\" class=\"data row4 col2\" >0.604643</td>\n",
       "                        <td id=\"T_3bffc_row4_col3\" class=\"data row4 col3\" >0.461113</td>\n",
       "                        <td id=\"T_3bffc_row4_col4\" class=\"data row4 col4\" >1.000000</td>\n",
       "                        <td id=\"T_3bffc_row4_col5\" class=\"data row4 col5\" >-0.021516</td>\n",
       "                        <td id=\"T_3bffc_row4_col6\" class=\"data row4 col6\" >0.015943</td>\n",
       "                        <td id=\"T_3bffc_row4_col7\" class=\"data row4 col7\" >-0.018687</td>\n",
       "                        <td id=\"T_3bffc_row4_col8\" class=\"data row4 col8\" >0.028303</td>\n",
       "                        <td id=\"T_3bffc_row4_col9\" class=\"data row4 col9\" >0.009236</td>\n",
       "                        <td id=\"T_3bffc_row4_col10\" class=\"data row4 col10\" >0.041157</td>\n",
       "                        <td id=\"T_3bffc_row4_col11\" class=\"data row4 col11\" >-0.098216</td>\n",
       "                        <td id=\"T_3bffc_row4_col12\" class=\"data row4 col12\" >-0.007965</td>\n",
       "            </tr>\n",
       "            <tr>\n",
       "                        <th id=\"T_3bffc_level0_row5\" class=\"row_heading level0 row5\" >cats_allowed</th>\n",
       "                        <td id=\"T_3bffc_row5_col0\" class=\"data row5 col0\" >0.034818</td>\n",
       "                        <td id=\"T_3bffc_row5_col1\" class=\"data row5 col1\" >-0.042037</td>\n",
       "                        <td id=\"T_3bffc_row5_col2\" class=\"data row5 col2\" >-0.078665</td>\n",
       "                        <td id=\"T_3bffc_row5_col3\" class=\"data row5 col3\" >-0.019932</td>\n",
       "                        <td id=\"T_3bffc_row5_col4\" class=\"data row5 col4\" >-0.021516</td>\n",
       "                        <td id=\"T_3bffc_row5_col5\" class=\"data row5 col5\" >1.000000</td>\n",
       "                        <td id=\"T_3bffc_row5_col6\" class=\"data row5 col6\" >0.887186</td>\n",
       "                        <td id=\"T_3bffc_row5_col7\" class=\"data row5 col7\" >0.036541</td>\n",
       "                        <td id=\"T_3bffc_row5_col8\" class=\"data row5 col8\" >0.118325</td>\n",
       "                        <td id=\"T_3bffc_row5_col9\" class=\"data row5 col9\" >0.053525</td>\n",
       "                        <td id=\"T_3bffc_row5_col10\" class=\"data row5 col10\" >-0.076369</td>\n",
       "                        <td id=\"T_3bffc_row5_col11\" class=\"data row5 col11\" >-0.013148</td>\n",
       "                        <td id=\"T_3bffc_row5_col12\" class=\"data row5 col12\" >0.054597</td>\n",
       "            </tr>\n",
       "            <tr>\n",
       "                        <th id=\"T_3bffc_level0_row6\" class=\"row_heading level0 row6\" >dogs_allowed</th>\n",
       "                        <td id=\"T_3bffc_row6_col0\" class=\"data row6 col0\" >0.024426</td>\n",
       "                        <td id=\"T_3bffc_row6_col1\" class=\"data row6 col1\" >-0.033900</td>\n",
       "                        <td id=\"T_3bffc_row6_col2\" class=\"data row6 col2\" >-0.036908</td>\n",
       "                        <td id=\"T_3bffc_row6_col3\" class=\"data row6 col3\" >-0.011197</td>\n",
       "                        <td id=\"T_3bffc_row6_col4\" class=\"data row6 col4\" >0.015943</td>\n",
       "                        <td id=\"T_3bffc_row6_col5\" class=\"data row6 col5\" >0.887186</td>\n",
       "                        <td id=\"T_3bffc_row6_col6\" class=\"data row6 col6\" >1.000000</td>\n",
       "                        <td id=\"T_3bffc_row6_col7\" class=\"data row6 col7\" >0.031869</td>\n",
       "                        <td id=\"T_3bffc_row6_col8\" class=\"data row6 col8\" >0.128308</td>\n",
       "                        <td id=\"T_3bffc_row6_col9\" class=\"data row6 col9\" >0.053380</td>\n",
       "                        <td id=\"T_3bffc_row6_col10\" class=\"data row6 col10\" >-0.055738</td>\n",
       "                        <td id=\"T_3bffc_row6_col11\" class=\"data row6 col11\" >-0.052023</td>\n",
       "                        <td id=\"T_3bffc_row6_col12\" class=\"data row6 col12\" >0.039935</td>\n",
       "            </tr>\n",
       "            <tr>\n",
       "                        <th id=\"T_3bffc_level0_row7\" class=\"row_heading level0 row7\" >smoking_allowed</th>\n",
       "                        <td id=\"T_3bffc_row7_col0\" class=\"data row7 col0\" >0.011674</td>\n",
       "                        <td id=\"T_3bffc_row7_col1\" class=\"data row7 col1\" >-0.165164</td>\n",
       "                        <td id=\"T_3bffc_row7_col2\" class=\"data row7 col2\" >-0.051534</td>\n",
       "                        <td id=\"T_3bffc_row7_col3\" class=\"data row7 col3\" >-0.001459</td>\n",
       "                        <td id=\"T_3bffc_row7_col4\" class=\"data row7 col4\" >-0.018687</td>\n",
       "                        <td id=\"T_3bffc_row7_col5\" class=\"data row7 col5\" >0.036541</td>\n",
       "                        <td id=\"T_3bffc_row7_col6\" class=\"data row7 col6\" >0.031869</td>\n",
       "                        <td id=\"T_3bffc_row7_col7\" class=\"data row7 col7\" >1.000000</td>\n",
       "                        <td id=\"T_3bffc_row7_col8\" class=\"data row7 col8\" >-0.204326</td>\n",
       "                        <td id=\"T_3bffc_row7_col9\" class=\"data row7 col9\" >-0.100159</td>\n",
       "                        <td id=\"T_3bffc_row7_col10\" class=\"data row7 col10\" >-0.150293</td>\n",
       "                        <td id=\"T_3bffc_row7_col11\" class=\"data row7 col11\" >-0.129610</td>\n",
       "                        <td id=\"T_3bffc_row7_col12\" class=\"data row7 col12\" >0.118966</td>\n",
       "            </tr>\n",
       "            <tr>\n",
       "                        <th id=\"T_3bffc_level0_row8\" class=\"row_heading level0 row8\" >wheelchair_access</th>\n",
       "                        <td id=\"T_3bffc_row8_col0\" class=\"data row8 col0\" >0.012306</td>\n",
       "                        <td id=\"T_3bffc_row8_col1\" class=\"data row8 col1\" >0.085760</td>\n",
       "                        <td id=\"T_3bffc_row8_col2\" class=\"data row8 col2\" >-0.000421</td>\n",
       "                        <td id=\"T_3bffc_row8_col3\" class=\"data row8 col3\" >-0.007548</td>\n",
       "                        <td id=\"T_3bffc_row8_col4\" class=\"data row8 col4\" >0.028303</td>\n",
       "                        <td id=\"T_3bffc_row8_col5\" class=\"data row8 col5\" >0.118325</td>\n",
       "                        <td id=\"T_3bffc_row8_col6\" class=\"data row8 col6\" >0.128308</td>\n",
       "                        <td id=\"T_3bffc_row8_col7\" class=\"data row8 col7\" >-0.204326</td>\n",
       "                        <td id=\"T_3bffc_row8_col8\" class=\"data row8 col8\" >1.000000</td>\n",
       "                        <td id=\"T_3bffc_row8_col9\" class=\"data row8 col9\" >0.206526</td>\n",
       "                        <td id=\"T_3bffc_row8_col10\" class=\"data row8 col10\" >0.152672</td>\n",
       "                        <td id=\"T_3bffc_row8_col11\" class=\"data row8 col11\" >-0.019009</td>\n",
       "                        <td id=\"T_3bffc_row8_col12\" class=\"data row8 col12\" >-0.006892</td>\n",
       "            </tr>\n",
       "            <tr>\n",
       "                        <th id=\"T_3bffc_level0_row9\" class=\"row_heading level0 row9\" >electric_vehicle_charge</th>\n",
       "                        <td id=\"T_3bffc_row9_col0\" class=\"data row9 col0\" >0.019057</td>\n",
       "                        <td id=\"T_3bffc_row9_col1\" class=\"data row9 col1\" >0.137642</td>\n",
       "                        <td id=\"T_3bffc_row9_col2\" class=\"data row9 col2\" >0.007912</td>\n",
       "                        <td id=\"T_3bffc_row9_col3\" class=\"data row9 col3\" >-0.004752</td>\n",
       "                        <td id=\"T_3bffc_row9_col4\" class=\"data row9 col4\" >0.009236</td>\n",
       "                        <td id=\"T_3bffc_row9_col5\" class=\"data row9 col5\" >0.053525</td>\n",
       "                        <td id=\"T_3bffc_row9_col6\" class=\"data row9 col6\" >0.053380</td>\n",
       "                        <td id=\"T_3bffc_row9_col7\" class=\"data row9 col7\" >-0.100159</td>\n",
       "                        <td id=\"T_3bffc_row9_col8\" class=\"data row9 col8\" >0.206526</td>\n",
       "                        <td id=\"T_3bffc_row9_col9\" class=\"data row9 col9\" >1.000000</td>\n",
       "                        <td id=\"T_3bffc_row9_col10\" class=\"data row9 col10\" >0.069265</td>\n",
       "                        <td id=\"T_3bffc_row9_col11\" class=\"data row9 col11\" >0.010245</td>\n",
       "                        <td id=\"T_3bffc_row9_col12\" class=\"data row9 col12\" >-0.061936</td>\n",
       "            </tr>\n",
       "            <tr>\n",
       "                        <th id=\"T_3bffc_level0_row10\" class=\"row_heading level0 row10\" >comes_furnished</th>\n",
       "                        <td id=\"T_3bffc_row10_col0\" class=\"data row10 col0\" >-0.022436</td>\n",
       "                        <td id=\"T_3bffc_row10_col1\" class=\"data row10 col1\" >0.023183</td>\n",
       "                        <td id=\"T_3bffc_row10_col2\" class=\"data row10 col2\" >0.017238</td>\n",
       "                        <td id=\"T_3bffc_row10_col3\" class=\"data row10 col3\" >0.003488</td>\n",
       "                        <td id=\"T_3bffc_row10_col4\" class=\"data row10 col4\" >0.041157</td>\n",
       "                        <td id=\"T_3bffc_row10_col5\" class=\"data row10 col5\" >-0.076369</td>\n",
       "                        <td id=\"T_3bffc_row10_col6\" class=\"data row10 col6\" >-0.055738</td>\n",
       "                        <td id=\"T_3bffc_row10_col7\" class=\"data row10 col7\" >-0.150293</td>\n",
       "                        <td id=\"T_3bffc_row10_col8\" class=\"data row10 col8\" >0.152672</td>\n",
       "                        <td id=\"T_3bffc_row10_col9\" class=\"data row10 col9\" >0.069265</td>\n",
       "                        <td id=\"T_3bffc_row10_col10\" class=\"data row10 col10\" >1.000000</td>\n",
       "                        <td id=\"T_3bffc_row10_col11\" class=\"data row10 col11\" >0.000507</td>\n",
       "                        <td id=\"T_3bffc_row10_col12\" class=\"data row10 col12\" >-0.023418</td>\n",
       "            </tr>\n",
       "            <tr>\n",
       "                        <th id=\"T_3bffc_level0_row11\" class=\"row_heading level0 row11\" >lat</th>\n",
       "                        <td id=\"T_3bffc_row11_col0\" class=\"data row11 col0\" >-0.006378</td>\n",
       "                        <td id=\"T_3bffc_row11_col1\" class=\"data row11 col1\" >-0.034644</td>\n",
       "                        <td id=\"T_3bffc_row11_col2\" class=\"data row11 col2\" >-0.000621</td>\n",
       "                        <td id=\"T_3bffc_row11_col3\" class=\"data row11 col3\" >0.003749</td>\n",
       "                        <td id=\"T_3bffc_row11_col4\" class=\"data row11 col4\" >-0.098216</td>\n",
       "                        <td id=\"T_3bffc_row11_col5\" class=\"data row11 col5\" >-0.013148</td>\n",
       "                        <td id=\"T_3bffc_row11_col6\" class=\"data row11 col6\" >-0.052023</td>\n",
       "                        <td id=\"T_3bffc_row11_col7\" class=\"data row11 col7\" >-0.129610</td>\n",
       "                        <td id=\"T_3bffc_row11_col8\" class=\"data row11 col8\" >-0.019009</td>\n",
       "                        <td id=\"T_3bffc_row11_col9\" class=\"data row11 col9\" >0.010245</td>\n",
       "                        <td id=\"T_3bffc_row11_col10\" class=\"data row11 col10\" >0.000507</td>\n",
       "                        <td id=\"T_3bffc_row11_col11\" class=\"data row11 col11\" >1.000000</td>\n",
       "                        <td id=\"T_3bffc_row11_col12\" class=\"data row11 col12\" >-0.070620</td>\n",
       "            </tr>\n",
       "            <tr>\n",
       "                        <th id=\"T_3bffc_level0_row12\" class=\"row_heading level0 row12\" >long</th>\n",
       "                        <td id=\"T_3bffc_row12_col0\" class=\"data row12 col0\" >-0.102851</td>\n",
       "                        <td id=\"T_3bffc_row12_col1\" class=\"data row12 col1\" >-0.218584</td>\n",
       "                        <td id=\"T_3bffc_row12_col2\" class=\"data row12 col2\" >0.037274</td>\n",
       "                        <td id=\"T_3bffc_row12_col3\" class=\"data row12 col3\" >0.006212</td>\n",
       "                        <td id=\"T_3bffc_row12_col4\" class=\"data row12 col4\" >-0.007965</td>\n",
       "                        <td id=\"T_3bffc_row12_col5\" class=\"data row12 col5\" >0.054597</td>\n",
       "                        <td id=\"T_3bffc_row12_col6\" class=\"data row12 col6\" >0.039935</td>\n",
       "                        <td id=\"T_3bffc_row12_col7\" class=\"data row12 col7\" >0.118966</td>\n",
       "                        <td id=\"T_3bffc_row12_col8\" class=\"data row12 col8\" >-0.006892</td>\n",
       "                        <td id=\"T_3bffc_row12_col9\" class=\"data row12 col9\" >-0.061936</td>\n",
       "                        <td id=\"T_3bffc_row12_col10\" class=\"data row12 col10\" >-0.023418</td>\n",
       "                        <td id=\"T_3bffc_row12_col11\" class=\"data row12 col11\" >-0.070620</td>\n",
       "                        <td id=\"T_3bffc_row12_col12\" class=\"data row12 col12\" >1.000000</td>\n",
       "            </tr>\n",
       "    </tbody></table>"
      ],
      "text/plain": [
       "<pandas.io.formats.style.Styler at 0x1e011a56310>"
      ]
     },
     "execution_count": 35,
     "metadata": {},
     "output_type": "execute_result"
    }
   ],
   "source": [
    "cr.corr().style.background_gradient(cmap='Blues')"
   ]
  },
  {
   "cell_type": "code",
   "execution_count": 36,
   "metadata": {},
   "outputs": [
    {
     "data": {
      "text/plain": [
       "Index(['id', 'url', 'region', 'region_url', 'price', 'type', 'sqfeet', 'beds',\n",
       "       'baths', 'cats_allowed', 'dogs_allowed', 'smoking_allowed',\n",
       "       'wheelchair_access', 'electric_vehicle_charge', 'comes_furnished',\n",
       "       'laundry_options', 'parking_options', 'image_url', 'description', 'lat',\n",
       "       'long', 'state'],\n",
       "      dtype='object')"
      ]
     },
     "execution_count": 36,
     "metadata": {},
     "output_type": "execute_result"
    }
   ],
   "source": [
    "cr.columns"
   ]
  },
  {
   "cell_type": "code",
   "execution_count": 78,
   "metadata": {},
   "outputs": [],
   "source": [
    "df=cr.copy()"
   ]
  },
  {
   "cell_type": "code",
   "execution_count": 79,
   "metadata": {},
   "outputs": [],
   "source": [
    "df.drop(['id', 'url', 'region_url','beds',\n",
    "       'baths', 'cats_allowed','image_url', 'description', 'lat',\n",
    "       'long'],axis=1,inplace=True)"
   ]
  },
  {
   "cell_type": "code",
   "execution_count": 80,
   "metadata": {},
   "outputs": [
    {
     "data": {
      "text/plain": [
       "Index(['region', 'price', 'type', 'sqfeet', 'dogs_allowed', 'smoking_allowed',\n",
       "       'wheelchair_access', 'electric_vehicle_charge', 'comes_furnished',\n",
       "       'laundry_options', 'parking_options', 'state'],\n",
       "      dtype='object')"
      ]
     },
     "execution_count": 80,
     "metadata": {},
     "output_type": "execute_result"
    }
   ],
   "source": [
    "df.columns"
   ]
  },
  {
   "cell_type": "code",
   "execution_count": 81,
   "metadata": {},
   "outputs": [],
   "source": [
    "cc_feature=[feature for feature in df.columns if df[feature].dtype == 'O']"
   ]
  },
  {
   "cell_type": "code",
   "execution_count": 82,
   "metadata": {},
   "outputs": [
    {
     "name": "stdout",
     "output_type": "stream",
     "text": [
      "Total diff  in region are 298\n",
      "Total diff  in type are 12\n",
      "Total diff  in laundry_options are 5\n",
      "Total diff  in parking_options are 8\n",
      "Total diff  in state are 38\n"
     ]
    }
   ],
   "source": [
    "for feature in cc_feature:\n",
    "    print('Total diff  in {} are {}'.format(feature,len(df[feature].unique())))"
   ]
  },
  {
   "cell_type": "code",
   "execution_count": 83,
   "metadata": {},
   "outputs": [],
   "source": [
    "pd.set_option(\"display.max_rows\",298)\n",
    "region_count=df['region'].value_counts()"
   ]
  },
  {
   "cell_type": "code",
   "execution_count": 84,
   "metadata": {},
   "outputs": [
    {
     "data": {
      "text/plain": [
       "Index(['mohave county', 'northwest GA', 'bloomington-normal', 'peoria',\n",
       "       'florida keys', 'visalia-tulare', 'san luis obispo', 'holland', 'maine',\n",
       "       'watertown',\n",
       "       ...\n",
       "       'oregon coast', 'lima / findlay', 'corvallis/albany', 'kansas city',\n",
       "       'zanesville / cambridge', 'tuscarawas co', 'mansfield', 'northwest OK',\n",
       "       'texoma', 'east oregon'],\n",
       "      dtype='object', length=157)"
      ]
     },
     "execution_count": 84,
     "metadata": {},
     "output_type": "execute_result"
    }
   ],
   "source": [
    "important=region_count[region_count<500].index\n",
    "important"
   ]
  },
  {
   "cell_type": "code",
   "execution_count": 85,
   "metadata": {},
   "outputs": [],
   "source": [
    "def remove(x):\n",
    "    if x not in important:\n",
    "        return 'other'\n",
    "    else:\n",
    "        return x \n"
   ]
  },
  {
   "cell_type": "code",
   "execution_count": 86,
   "metadata": {},
   "outputs": [],
   "source": [
    "df['region']=df['region'].apply(remove)"
   ]
  },
  {
   "cell_type": "code",
   "execution_count": 87,
   "metadata": {},
   "outputs": [
    {
     "data": {
      "text/plain": [
       "265099         other\n",
       "265100         other\n",
       "265101         other\n",
       "265102         other\n",
       "265103         other\n",
       "265104         other\n",
       "265105         other\n",
       "265106         other\n",
       "265107         other\n",
       "265108         other\n",
       "265109         other\n",
       "265110         other\n",
       "265111         other\n",
       "265112         other\n",
       "265113         other\n",
       "265114         other\n",
       "265115         other\n",
       "265116         other\n",
       "265117         other\n",
       "265118         other\n",
       "265119         other\n",
       "265120         other\n",
       "265121         other\n",
       "265122         other\n",
       "265123         other\n",
       "265124         other\n",
       "265125         other\n",
       "265126         other\n",
       "265127         other\n",
       "265128         other\n",
       "265129         other\n",
       "265130         other\n",
       "265131         other\n",
       "265132         other\n",
       "265133         other\n",
       "265134         other\n",
       "265135         other\n",
       "265136         other\n",
       "265137         other\n",
       "265138         other\n",
       "265139         other\n",
       "265140         other\n",
       "265141         other\n",
       "265142         other\n",
       "265143         other\n",
       "265144         other\n",
       "265145         other\n",
       "265146         other\n",
       "265147         other\n",
       "265148         other\n",
       "265149         other\n",
       "265150         other\n",
       "265151         other\n",
       "265152         other\n",
       "265153         other\n",
       "265154         other\n",
       "265155         other\n",
       "265156         other\n",
       "265157         other\n",
       "265158         other\n",
       "265159         other\n",
       "265160         other\n",
       "265161         other\n",
       "265162         other\n",
       "265163         other\n",
       "265164         other\n",
       "265165         other\n",
       "265166         other\n",
       "265167         other\n",
       "265168         other\n",
       "265169         other\n",
       "265170    stillwater\n",
       "265171         other\n",
       "265172         other\n",
       "265173         other\n",
       "265174         other\n",
       "265175         other\n",
       "265176         other\n",
       "265177         other\n",
       "265178         other\n",
       "265179         other\n",
       "265180         other\n",
       "265181         other\n",
       "265182         other\n",
       "265183         other\n",
       "265184         other\n",
       "265185         other\n",
       "265186         other\n",
       "265187         other\n",
       "265188         other\n",
       "Name: region, dtype: object"
      ]
     },
     "execution_count": 87,
     "metadata": {},
     "output_type": "execute_result"
    }
   ],
   "source": [
    "df['region'].tail(90)"
   ]
  },
  {
   "cell_type": "code",
   "execution_count": 90,
   "metadata": {},
   "outputs": [],
   "source": [
    "def get_stats(feature):\n",
    "    count=df[feature].value_counts()\n",
    "    pd.set_option('display.max_row',df[feature].nunique())\n",
    "    return count"
   ]
  },
  {
   "cell_type": "code",
   "execution_count": 91,
   "metadata": {},
   "outputs": [
    {
     "data": {
      "text/plain": [
       "ca    32997\n",
       "fl    31687\n",
       "nc    18490\n",
       "mi    14439\n",
       "ga    13773\n",
       "co    11200\n",
       "ny     9958\n",
       "il     9615\n",
       "ks     7889\n",
       "ia     7462\n",
       "mn     7445\n",
       "md     7437\n",
       "la     7291\n",
       "az     6742\n",
       "oh     6537\n",
       "in     6400\n",
       "al     6190\n",
       "nj     5601\n",
       "ky     5397\n",
       "ms     4963\n",
       "ma     4894\n",
       "id     4365\n",
       "ct     3753\n",
       "nd     3428\n",
       "ar     3145\n",
       "nm     2907\n",
       "nv     2836\n",
       "ne     2693\n",
       "dc     2478\n",
       "ak     2148\n",
       "mo     2137\n",
       "de     2046\n",
       "hi     1830\n",
       "nh     1754\n",
       "mt     1331\n",
       "me      420\n",
       "ok       49\n",
       "or       44\n",
       "Name: state, dtype: int64"
      ]
     },
     "execution_count": 91,
     "metadata": {},
     "output_type": "execute_result"
    }
   ],
   "source": [
    "get_stats('state')"
   ]
  },
  {
   "cell_type": "code",
   "execution_count": null,
   "metadata": {},
   "outputs": [],
   "source": []
  },
  {
   "cell_type": "code",
   "execution_count": null,
   "metadata": {},
   "outputs": [],
   "source": []
  },
  {
   "cell_type": "code",
   "execution_count": null,
   "metadata": {},
   "outputs": [],
   "source": []
  },
  {
   "cell_type": "code",
   "execution_count": null,
   "metadata": {},
   "outputs": [],
   "source": []
  },
  {
   "cell_type": "code",
   "execution_count": null,
   "metadata": {},
   "outputs": [],
   "source": []
  },
  {
   "cell_type": "code",
   "execution_count": null,
   "metadata": {},
   "outputs": [],
   "source": []
  },
  {
   "cell_type": "code",
   "execution_count": null,
   "metadata": {},
   "outputs": [],
   "source": []
  },
  {
   "cell_type": "code",
   "execution_count": null,
   "metadata": {},
   "outputs": [],
   "source": []
  },
  {
   "cell_type": "code",
   "execution_count": null,
   "metadata": {},
   "outputs": [],
   "source": []
  },
  {
   "cell_type": "code",
   "execution_count": null,
   "metadata": {},
   "outputs": [],
   "source": []
  },
  {
   "cell_type": "code",
   "execution_count": null,
   "metadata": {},
   "outputs": [],
   "source": []
  },
  {
   "cell_type": "code",
   "execution_count": null,
   "metadata": {},
   "outputs": [],
   "source": []
  },
  {
   "cell_type": "code",
   "execution_count": null,
   "metadata": {},
   "outputs": [],
   "source": []
  },
  {
   "cell_type": "code",
   "execution_count": null,
   "metadata": {},
   "outputs": [],
   "source": []
  },
  {
   "cell_type": "code",
   "execution_count": null,
   "metadata": {},
   "outputs": [],
   "source": []
  },
  {
   "cell_type": "code",
   "execution_count": null,
   "metadata": {},
   "outputs": [],
   "source": []
  },
  {
   "cell_type": "code",
   "execution_count": null,
   "metadata": {},
   "outputs": [],
   "source": []
  },
  {
   "cell_type": "code",
   "execution_count": null,
   "metadata": {},
   "outputs": [],
   "source": []
  },
  {
   "cell_type": "code",
   "execution_count": null,
   "metadata": {},
   "outputs": [],
   "source": []
  },
  {
   "cell_type": "code",
   "execution_count": null,
   "metadata": {},
   "outputs": [],
   "source": []
  },
  {
   "cell_type": "code",
   "execution_count": null,
   "metadata": {},
   "outputs": [],
   "source": []
  },
  {
   "cell_type": "code",
   "execution_count": null,
   "metadata": {},
   "outputs": [],
   "source": []
  },
  {
   "cell_type": "code",
   "execution_count": null,
   "metadata": {},
   "outputs": [],
   "source": []
  },
  {
   "cell_type": "code",
   "execution_count": null,
   "metadata": {},
   "outputs": [],
   "source": []
  }
 ],
 "metadata": {
  "interpreter": {
   "hash": "9efce205f64ad363cd9f14615485aca38ee4ef0915866e318aa83c8d0c93f6fc"
  },
  "kernelspec": {
   "display_name": "Python 3.10.1 64-bit",
   "language": "python",
   "name": "python3"
  },
  "language_info": {
   "codemirror_mode": {
    "name": "ipython",
    "version": 3
   },
   "file_extension": ".py",
   "mimetype": "text/x-python",
   "name": "python",
   "nbconvert_exporter": "python",
   "pygments_lexer": "ipython3",
   "version": "3.8.8"
  },
  "orig_nbformat": 4
 },
 "nbformat": 4,
 "nbformat_minor": 2
}
