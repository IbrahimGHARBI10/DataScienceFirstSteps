{
 "cells": [
  {
   "cell_type": "code",
   "execution_count": 2,
   "metadata": {},
   "outputs": [],
   "source": [
    "import numpy as np \n",
    "import sqlalchemy as sa\n",
    "import datetime as datetime\n",
    "from datetime import timedelta\n",
    "import pandas as pd\n",
    "import pymysql\n",
    "import scipy.stats as norm\n",
    "import inventorize as inv"
   ]
  },
  {
   "cell_type": "code",
   "execution_count": 3,
   "metadata": {},
   "outputs": [],
   "source": [
    "con=sa.create_engine('mysql+pymysql://{user}:{pw}@{host}/{db}'.format\n",
    "                     (user='root',pw='ghar123+bi',host='localhost:3306',db='mango'))\n",
    "\n",
    "stocks_three_month= pd.read_sql(\"\"\"SELECT * from mango.mango_stocks WHERE DATE(Date)<= \n",
    "(select max(DATE(Date)) from mango.mango_stocks) AND \n",
    "DATE(Date)>= (select max(DATE(Date))- interval 90 DAY from mango.mango_stocks);\"\"\",con)\n",
    "\n",
    "\n",
    "sales_two_years= pd.read_sql(\"\"\"SELECT * from mango.mango_sales WHERE DATE(Date)<= \n",
    "(select max(DATE(Date)) from mango.mango_sales) AND \n",
    "DATE(Date)>= (select max(DATE(Date))- interval 730 DAY from mango.mango_sales);\"\"\",con)\n",
    "\n",
    "orders= pd.read_sql(\"\"\"SELECT * from mango.mango_orders WHERE DATE(Date)<= \n",
    "(select max(DATE(Date)) from mango.mango_orders) AND \n",
    "DATE(Date)>= (select max(DATE(Date))- interval 10 DAY from mango.mango_orders);\"\"\",con)\n",
    "\n",
    "\n",
    "sales_three_month=  pd.read_sql(\"\"\"SELECT * from mango.mango_sales WHERE DATE(Date)<= \n",
    "(select max(DATE(Date)) from mango.mango_sales) AND \n",
    "DATE(Date)>= (select max(DATE(Date))- interval 90 DAY from mango.mango_sales);\"\"\",con)\n"
   ]
  },
  {
   "cell_type": "code",
   "execution_count": 4,
   "metadata": {},
   "outputs": [],
   "source": [
    "stocks_three_month['Date']=pd.to_datetime(stocks_three_month['Date'])\n",
    "sales_three_month['Date']=pd.to_datetime(sales_three_month['Date'])\n",
    "orders['Date']=pd.to_datetime(orders['Date'])\n",
    "sales_two_years['Date']=pd.to_datetime(sales_two_years['Date'])"
   ]
  },
  {
   "cell_type": "code",
   "execution_count": 5,
   "metadata": {},
   "outputs": [],
   "source": [
    "sales_three_month['label']=sales_three_month['description']+'_'+sales_three_month['size']+'_'+sales_three_month['color']+'_'+sales_three_month['section']+'_'+sales_three_month['subfamily']+'_'+sales_three_month['brand']"
   ]
  },
  {
   "cell_type": "code",
   "execution_count": 6,
   "metadata": {},
   "outputs": [],
   "source": [
    "orders['label']=(orders['description']+'_'+orders['size']+'_'+orders['color']+'_'+orders['section']+'_'+orders['subfamily']+'_'+orders['brand'])"
   ]
  },
  {
   "cell_type": "code",
   "execution_count": 7,
   "metadata": {},
   "outputs": [],
   "source": [
    "sales_two_years['month']=sales_two_years['Date'].dt.month\n",
    "sales_two_years['year']=sales_two_years['Date'].dt.year"
   ]
  },
  {
   "cell_type": "code",
   "execution_count": 8,
   "metadata": {},
   "outputs": [],
   "source": [
    "sales_two_years['label']=(sales_two_years['description']+'_'+sales_two_years['size']+'_'+sales_two_years['color']+'_'+sales_two_years['section']+'_'+sales_two_years['subfamily']+'_'+sales_two_years['brand'])"
   ]
  },
  {
   "cell_type": "code",
   "execution_count": 9,
   "metadata": {},
   "outputs": [],
   "source": [
    "sales_three_month=sales_three_month.groupby(['label','Date']).agg(sales=('Qty',np.sum)).reset_index()"
   ]
  },
  {
   "cell_type": "code",
   "execution_count": 10,
   "metadata": {},
   "outputs": [],
   "source": [
    "\n",
    "average_category=(sales_two_years.groupby(['month','section','subfamily']).agg(sales=('Qty',np.sum)).reset_index().groupby(['section','subfamily']).agg(average_category=('sales',np.mean)).reset_index())"
   ]
  },
  {
   "cell_type": "code",
   "execution_count": 11,
   "metadata": {},
   "outputs": [],
   "source": [
    "average_monthly=(sales_two_years.groupby(['year','month','section','subfamily']).agg(sales=('Qty',np.sum)).reset_index().groupby(['month','section','subfamily']).agg(average_monthly=('sales',np.mean\n",
    ")).reset_index())"
   ]
  },
  {
   "cell_type": "code",
   "execution_count": 12,
   "metadata": {},
   "outputs": [],
   "source": [
    "seasonality=pd.merge(average_monthly,average_category,how='outer')"
   ]
  },
  {
   "cell_type": "code",
   "execution_count": 13,
   "metadata": {},
   "outputs": [],
   "source": [
    "seasonality['seasonality']=seasonality['average_monthly']/seasonality['average_category']"
   ]
  },
  {
   "cell_type": "code",
   "execution_count": 14,
   "metadata": {},
   "outputs": [],
   "source": [
    "\n",
    "seasonality=seasonality.loc[seasonality.month==datetime.datetime.now().month,:].reset_index()"
   ]
  },
  {
   "cell_type": "code",
   "execution_count": 15,
   "metadata": {},
   "outputs": [
    {
     "name": "stderr",
     "output_type": "stream",
     "text": [
      "C:\\Users\\Brahim\\AppData\\Local\\Temp\\ipykernel_11584\\1613469921.py:1: FutureWarning: In a future version of pandas all arguments of DataFrame.drop except for the argument 'labels' will be keyword-only\n",
      "  seasonality.drop('index',1,inplace=True)\n"
     ]
    },
    {
     "data": {
      "text/html": [
       "<div>\n",
       "<style scoped>\n",
       "    .dataframe tbody tr th:only-of-type {\n",
       "        vertical-align: middle;\n",
       "    }\n",
       "\n",
       "    .dataframe tbody tr th {\n",
       "        vertical-align: top;\n",
       "    }\n",
       "\n",
       "    .dataframe thead th {\n",
       "        text-align: right;\n",
       "    }\n",
       "</style>\n",
       "<table border=\"1\" class=\"dataframe\">\n",
       "  <thead>\n",
       "    <tr style=\"text-align: right;\">\n",
       "      <th></th>\n",
       "      <th>month</th>\n",
       "      <th>section</th>\n",
       "      <th>subfamily</th>\n",
       "      <th>average_monthly</th>\n",
       "      <th>average_category</th>\n",
       "      <th>seasonality</th>\n",
       "    </tr>\n",
       "  </thead>\n",
       "  <tbody>\n",
       "    <tr>\n",
       "      <th>0</th>\n",
       "      <td>2</td>\n",
       "      <td>cycling</td>\n",
       "      <td>jackets</td>\n",
       "      <td>8.0</td>\n",
       "      <td>9.916667</td>\n",
       "      <td>0.806723</td>\n",
       "    </tr>\n",
       "    <tr>\n",
       "      <th>1</th>\n",
       "      <td>2</td>\n",
       "      <td>cycling</td>\n",
       "      <td>shorts</td>\n",
       "      <td>54.5</td>\n",
       "      <td>96.666667</td>\n",
       "      <td>0.563793</td>\n",
       "    </tr>\n",
       "    <tr>\n",
       "      <th>2</th>\n",
       "      <td>2</td>\n",
       "      <td>fitness</td>\n",
       "      <td>pants</td>\n",
       "      <td>5.0</td>\n",
       "      <td>24.833333</td>\n",
       "      <td>0.201342</td>\n",
       "    </tr>\n",
       "    <tr>\n",
       "      <th>3</th>\n",
       "      <td>2</td>\n",
       "      <td>fitness</td>\n",
       "      <td>shorts</td>\n",
       "      <td>59.0</td>\n",
       "      <td>135.916667</td>\n",
       "      <td>0.434090</td>\n",
       "    </tr>\n",
       "    <tr>\n",
       "      <th>4</th>\n",
       "      <td>2</td>\n",
       "      <td>fitness</td>\n",
       "      <td>tops</td>\n",
       "      <td>41.0</td>\n",
       "      <td>65.000000</td>\n",
       "      <td>0.630769</td>\n",
       "    </tr>\n",
       "    <tr>\n",
       "      <th>5</th>\n",
       "      <td>2</td>\n",
       "      <td>outdoors</td>\n",
       "      <td>jackets</td>\n",
       "      <td>295.5</td>\n",
       "      <td>503.416667</td>\n",
       "      <td>0.586989</td>\n",
       "    </tr>\n",
       "    <tr>\n",
       "      <th>6</th>\n",
       "      <td>2</td>\n",
       "      <td>outdoors</td>\n",
       "      <td>pants</td>\n",
       "      <td>255.5</td>\n",
       "      <td>477.666667</td>\n",
       "      <td>0.534892</td>\n",
       "    </tr>\n",
       "    <tr>\n",
       "      <th>7</th>\n",
       "      <td>2</td>\n",
       "      <td>outdoors</td>\n",
       "      <td>shorts</td>\n",
       "      <td>26.0</td>\n",
       "      <td>78.500000</td>\n",
       "      <td>0.331210</td>\n",
       "    </tr>\n",
       "    <tr>\n",
       "      <th>8</th>\n",
       "      <td>2</td>\n",
       "      <td>outdoors</td>\n",
       "      <td>underwear</td>\n",
       "      <td>23.5</td>\n",
       "      <td>49.000000</td>\n",
       "      <td>0.479592</td>\n",
       "    </tr>\n",
       "    <tr>\n",
       "      <th>9</th>\n",
       "      <td>2</td>\n",
       "      <td>outing</td>\n",
       "      <td>Pefumes</td>\n",
       "      <td>1646.5</td>\n",
       "      <td>3592.000000</td>\n",
       "      <td>0.458380</td>\n",
       "    </tr>\n",
       "    <tr>\n",
       "      <th>10</th>\n",
       "      <td>2</td>\n",
       "      <td>outing</td>\n",
       "      <td>shirts</td>\n",
       "      <td>13.0</td>\n",
       "      <td>63.333333</td>\n",
       "      <td>0.205263</td>\n",
       "    </tr>\n",
       "    <tr>\n",
       "      <th>11</th>\n",
       "      <td>2</td>\n",
       "      <td>swimming</td>\n",
       "      <td>shorts</td>\n",
       "      <td>527.5</td>\n",
       "      <td>1169.833333</td>\n",
       "      <td>0.450919</td>\n",
       "    </tr>\n",
       "    <tr>\n",
       "      <th>12</th>\n",
       "      <td>2</td>\n",
       "      <td>swimming</td>\n",
       "      <td>skirts</td>\n",
       "      <td>27.5</td>\n",
       "      <td>58.916667</td>\n",
       "      <td>0.466761</td>\n",
       "    </tr>\n",
       "    <tr>\n",
       "      <th>13</th>\n",
       "      <td>2</td>\n",
       "      <td>swimming</td>\n",
       "      <td>tops</td>\n",
       "      <td>264.5</td>\n",
       "      <td>603.500000</td>\n",
       "      <td>0.438277</td>\n",
       "    </tr>\n",
       "    <tr>\n",
       "      <th>14</th>\n",
       "      <td>2</td>\n",
       "      <td>yoga</td>\n",
       "      <td>shorts</td>\n",
       "      <td>1.0</td>\n",
       "      <td>2.181818</td>\n",
       "      <td>0.458333</td>\n",
       "    </tr>\n",
       "  </tbody>\n",
       "</table>\n",
       "</div>"
      ],
      "text/plain": [
       "    month   section  subfamily  average_monthly  average_category  seasonality\n",
       "0       2   cycling    jackets              8.0          9.916667     0.806723\n",
       "1       2   cycling     shorts             54.5         96.666667     0.563793\n",
       "2       2   fitness      pants              5.0         24.833333     0.201342\n",
       "3       2   fitness     shorts             59.0        135.916667     0.434090\n",
       "4       2   fitness       tops             41.0         65.000000     0.630769\n",
       "5       2  outdoors    jackets            295.5        503.416667     0.586989\n",
       "6       2  outdoors      pants            255.5        477.666667     0.534892\n",
       "7       2  outdoors     shorts             26.0         78.500000     0.331210\n",
       "8       2  outdoors  underwear             23.5         49.000000     0.479592\n",
       "9       2    outing    Pefumes           1646.5       3592.000000     0.458380\n",
       "10      2    outing     shirts             13.0         63.333333     0.205263\n",
       "11      2  swimming     shorts            527.5       1169.833333     0.450919\n",
       "12      2  swimming     skirts             27.5         58.916667     0.466761\n",
       "13      2  swimming       tops            264.5        603.500000     0.438277\n",
       "14      2      yoga     shorts              1.0          2.181818     0.458333"
      ]
     },
     "execution_count": 15,
     "metadata": {},
     "output_type": "execute_result"
    }
   ],
   "source": [
    "seasonality.drop('index',1,inplace=True)\n",
    "seasonality"
   ]
  },
  {
   "cell_type": "code",
   "execution_count": 16,
   "metadata": {},
   "outputs": [
    {
     "data": {
      "text/html": [
       "<div>\n",
       "<style scoped>\n",
       "    .dataframe tbody tr th:only-of-type {\n",
       "        vertical-align: middle;\n",
       "    }\n",
       "\n",
       "    .dataframe tbody tr th {\n",
       "        vertical-align: top;\n",
       "    }\n",
       "\n",
       "    .dataframe thead th {\n",
       "        text-align: right;\n",
       "    }\n",
       "</style>\n",
       "<table border=\"1\" class=\"dataframe\">\n",
       "  <thead>\n",
       "    <tr style=\"text-align: right;\">\n",
       "      <th></th>\n",
       "      <th>index</th>\n",
       "      <th>Date</th>\n",
       "      <th>Inventory</th>\n",
       "      <th>Description</th>\n",
       "      <th>size</th>\n",
       "      <th>color</th>\n",
       "      <th>section</th>\n",
       "      <th>subfamily</th>\n",
       "      <th>brand</th>\n",
       "    </tr>\n",
       "  </thead>\n",
       "  <tbody>\n",
       "    <tr>\n",
       "      <th>0</th>\n",
       "      <td>90</td>\n",
       "      <td>2019-10-27</td>\n",
       "      <td>0.0</td>\n",
       "      <td>item  1000</td>\n",
       "      <td>13</td>\n",
       "      <td>White</td>\n",
       "      <td>swimming</td>\n",
       "      <td>shorts</td>\n",
       "      <td>Delphine Kemmer</td>\n",
       "    </tr>\n",
       "  </tbody>\n",
       "</table>\n",
       "</div>"
      ],
      "text/plain": [
       "   index       Date  Inventory Description size  color   section subfamily  \\\n",
       "0     90 2019-10-27        0.0  item  1000   13  White  swimming    shorts   \n",
       "\n",
       "             brand  \n",
       "0  Delphine Kemmer  "
      ]
     },
     "execution_count": 16,
     "metadata": {},
     "output_type": "execute_result"
    }
   ],
   "source": [
    "stocks_three_month.head(1)"
   ]
  },
  {
   "cell_type": "code",
   "execution_count": 17,
   "metadata": {},
   "outputs": [],
   "source": [
    "stocks_three_month['label']=(stocks_three_month['Description']+'_'+stocks_three_month['size']+'_'+stocks_three_month['color']+'_'+stocks_three_month['section']+'_'+stocks_three_month['subfamily']+'_'+stocks_three_month['brand'])"
   ]
  },
  {
   "cell_type": "code",
   "execution_count": 18,
   "metadata": {},
   "outputs": [
    {
     "data": {
      "text/html": [
       "<div>\n",
       "<style scoped>\n",
       "    .dataframe tbody tr th:only-of-type {\n",
       "        vertical-align: middle;\n",
       "    }\n",
       "\n",
       "    .dataframe tbody tr th {\n",
       "        vertical-align: top;\n",
       "    }\n",
       "\n",
       "    .dataframe thead th {\n",
       "        text-align: right;\n",
       "    }\n",
       "</style>\n",
       "<table border=\"1\" class=\"dataframe\">\n",
       "  <thead>\n",
       "    <tr style=\"text-align: right;\">\n",
       "      <th></th>\n",
       "      <th>index</th>\n",
       "      <th>Date</th>\n",
       "      <th>Inventory</th>\n",
       "      <th>Description</th>\n",
       "      <th>size</th>\n",
       "      <th>color</th>\n",
       "      <th>section</th>\n",
       "      <th>subfamily</th>\n",
       "      <th>brand</th>\n",
       "      <th>label</th>\n",
       "    </tr>\n",
       "  </thead>\n",
       "  <tbody>\n",
       "    <tr>\n",
       "      <th>0</th>\n",
       "      <td>90</td>\n",
       "      <td>2019-10-27</td>\n",
       "      <td>0.0</td>\n",
       "      <td>item  1000</td>\n",
       "      <td>13</td>\n",
       "      <td>White</td>\n",
       "      <td>swimming</td>\n",
       "      <td>shorts</td>\n",
       "      <td>Delphine Kemmer</td>\n",
       "      <td>item  1000_13_White_swimming_shorts_Delphine K...</td>\n",
       "    </tr>\n",
       "  </tbody>\n",
       "</table>\n",
       "</div>"
      ],
      "text/plain": [
       "   index       Date  Inventory Description size  color   section subfamily  \\\n",
       "0     90 2019-10-27        0.0  item  1000   13  White  swimming    shorts   \n",
       "\n",
       "             brand                                              label  \n",
       "0  Delphine Kemmer  item  1000_13_White_swimming_shorts_Delphine K...  "
      ]
     },
     "execution_count": 18,
     "metadata": {},
     "output_type": "execute_result"
    }
   ],
   "source": [
    "stocks_three_month.head(1)"
   ]
  },
  {
   "cell_type": "code",
   "execution_count": 19,
   "metadata": {},
   "outputs": [],
   "source": [
    "stocks_three_month['begining']=stocks_three_month['Inventory']\n",
    "stocks_three_month.drop('Inventory',axis=1,inplace=True)"
   ]
  },
  {
   "cell_type": "code",
   "execution_count": 21,
   "metadata": {},
   "outputs": [],
   "source": [
    "stocks_three_month['ending']=stocks_three_month.groupby('label')['begining'].transform(lambda x: x.shift(-1))\n"
   ]
  },
  {
   "cell_type": "code",
   "execution_count": 22,
   "metadata": {},
   "outputs": [],
   "source": [
    "dataset=stocks_three_month.copy()"
   ]
  },
  {
   "cell_type": "code",
   "execution_count": 23,
   "metadata": {},
   "outputs": [
    {
     "data": {
      "text/html": [
       "<div>\n",
       "<style scoped>\n",
       "    .dataframe tbody tr th:only-of-type {\n",
       "        vertical-align: middle;\n",
       "    }\n",
       "\n",
       "    .dataframe tbody tr th {\n",
       "        vertical-align: top;\n",
       "    }\n",
       "\n",
       "    .dataframe thead th {\n",
       "        text-align: right;\n",
       "    }\n",
       "</style>\n",
       "<table border=\"1\" class=\"dataframe\">\n",
       "  <thead>\n",
       "    <tr style=\"text-align: right;\">\n",
       "      <th></th>\n",
       "      <th>index</th>\n",
       "      <th>Date</th>\n",
       "      <th>Description</th>\n",
       "      <th>size</th>\n",
       "      <th>color</th>\n",
       "      <th>section</th>\n",
       "      <th>subfamily</th>\n",
       "      <th>brand</th>\n",
       "      <th>label</th>\n",
       "      <th>begining</th>\n",
       "      <th>ending</th>\n",
       "    </tr>\n",
       "  </thead>\n",
       "  <tbody>\n",
       "    <tr>\n",
       "      <th>0</th>\n",
       "      <td>90</td>\n",
       "      <td>2019-10-27</td>\n",
       "      <td>item  1000</td>\n",
       "      <td>13</td>\n",
       "      <td>White</td>\n",
       "      <td>swimming</td>\n",
       "      <td>shorts</td>\n",
       "      <td>Delphine Kemmer</td>\n",
       "      <td>item  1000_13_White_swimming_shorts_Delphine K...</td>\n",
       "      <td>0.0</td>\n",
       "      <td>0.0</td>\n",
       "    </tr>\n",
       "  </tbody>\n",
       "</table>\n",
       "</div>"
      ],
      "text/plain": [
       "   index       Date Description size  color   section subfamily  \\\n",
       "0     90 2019-10-27  item  1000   13  White  swimming    shorts   \n",
       "\n",
       "             brand                                              label  \\\n",
       "0  Delphine Kemmer  item  1000_13_White_swimming_shorts_Delphine K...   \n",
       "\n",
       "   begining  ending  \n",
       "0       0.0     0.0  "
      ]
     },
     "execution_count": 23,
     "metadata": {},
     "output_type": "execute_result"
    }
   ],
   "source": [
    "dataset.head(1)"
   ]
  },
  {
   "cell_type": "code",
   "execution_count": 24,
   "metadata": {},
   "outputs": [],
   "source": [
    "dataset=pd.merge(dataset,sales_three_month,how='outer',on=['Date','label'])"
   ]
  },
  {
   "cell_type": "code",
   "execution_count": 25,
   "metadata": {},
   "outputs": [],
   "source": [
    "dataset.fillna(0,inplace=True)\n",
    "dataset['Received']=dataset['ending']+dataset['sales']-dataset['begining']"
   ]
  },
  {
   "cell_type": "code",
   "execution_count": 22,
   "metadata": {},
   "outputs": [],
   "source": [
    "def stock_status(data):\n",
    "    if((data.begining<=0)&(data.sales==0)&(data.Received<=0)):\n",
    "        a='out_of_stocks'\n",
    "    elif ((data.begining<=0)&(data.sales==0)):\n",
    "        a='out_of_stocks'\n",
    "    elif ((data.begining>0)&(data.sales==0)):\n",
    "        a='no_sales'\n",
    "    elif ((data.sales>0)):\n",
    "        a='selling_day'\n",
    "    else:\n",
    "        a='question_mark'\n",
    "    return a"
   ]
  },
  {
   "cell_type": "code",
   "execution_count": 23,
   "metadata": {},
   "outputs": [],
   "source": [
    "dataset['status']=dataset.apply(stock_status,axis=1)"
   ]
  },
  {
   "cell_type": "code",
   "execution_count": 24,
   "metadata": {},
   "outputs": [],
   "source": [
    "sales_two_years['revenue']=sales_two_years['price_paid']/sales_two_years['Qty']\n",
    "sales_two_years['profit']=(sales_two_years['price_paid' ]/sales_two_years['Qty'])-sales_two_years['Cost']"
   ]
  },
  {
   "cell_type": "code",
   "execution_count": 25,
   "metadata": {},
   "outputs": [],
   "source": [
    "product_attribute=sales_two_years.groupby('label').agg(Cost=('Cost',np.mean),revenue=('revenue',np.mean),profit=('profit',np.mean))"
   ]
  },
  {
   "cell_type": "code",
   "execution_count": 26,
   "metadata": {},
   "outputs": [],
   "source": [
    "dataset=pd.merge(dataset,product_attribute,how='left',on='label')"
   ]
  },
  {
   "cell_type": "code",
   "execution_count": 27,
   "metadata": {},
   "outputs": [],
   "source": [
    "max_date_requested=max(orders['Date'])\n",
    "min_date_requested=max_date_requested-timedelta(days=10)\n",
    "leadtime=10\n",
    "total_requested=(orders[(orders['Date']<=max_date_requested)&(orders['Date']>=min_date_requested)].groupby('label').agg(total_requested=('Qty',np.sum)).reset_index)"
   ]
  },
  {
   "cell_type": "code",
   "execution_count": 28,
   "metadata": {},
   "outputs": [],
   "source": [
    "curent_stock=dataset[dataset['Date']==max(dataset['Date'])].groupby('label').agg(beginning=('begining',np.mean))"
   ]
  },
  {
   "cell_type": "code",
   "execution_count": 29,
   "metadata": {},
   "outputs": [],
   "source": [
    "for_abc=dataset.groupby('label').agg(sales=('sales',np.sum),revenue=('revenue',np.mean)).sort_values(by='sales',ascending=False).reset_index()"
   ]
  },
  {
   "cell_type": "code",
   "execution_count": 30,
   "metadata": {},
   "outputs": [
    {
     "data": {
      "text/html": [
       "<div>\n",
       "<style scoped>\n",
       "    .dataframe tbody tr th:only-of-type {\n",
       "        vertical-align: middle;\n",
       "    }\n",
       "\n",
       "    .dataframe tbody tr th {\n",
       "        vertical-align: top;\n",
       "    }\n",
       "\n",
       "    .dataframe thead th {\n",
       "        text-align: right;\n",
       "    }\n",
       "</style>\n",
       "<table border=\"1\" class=\"dataframe\">\n",
       "  <thead>\n",
       "    <tr style=\"text-align: right;\">\n",
       "      <th></th>\n",
       "      <th>label</th>\n",
       "      <th>sales</th>\n",
       "      <th>revenue</th>\n",
       "    </tr>\n",
       "  </thead>\n",
       "  <tbody>\n",
       "    <tr>\n",
       "      <th>0</th>\n",
       "      <td>item  3902_Standard_Standard_outing_Pefumes_Ne...</td>\n",
       "      <td>298.0</td>\n",
       "      <td>287.063079</td>\n",
       "    </tr>\n",
       "  </tbody>\n",
       "</table>\n",
       "</div>"
      ],
      "text/plain": [
       "                                               label  sales     revenue\n",
       "0  item  3902_Standard_Standard_outing_Pefumes_Ne...  298.0  287.063079"
      ]
     },
     "execution_count": 30,
     "metadata": {},
     "output_type": "execute_result"
    }
   ],
   "source": [
    "for_abc.head(1)"
   ]
  },
  {
   "cell_type": "code",
   "execution_count": 31,
   "metadata": {},
   "outputs": [],
   "source": [
    "for_abc.fillna(0,inplace=True)"
   ]
  },
  {
   "cell_type": "code",
   "execution_count": 32,
   "metadata": {},
   "outputs": [],
   "source": [
    "abc=inv.productmix(for_abc['label'],for_abc['sales'],for_abc['revenue'])"
   ]
  },
  {
   "cell_type": "code",
   "execution_count": 33,
   "metadata": {},
   "outputs": [],
   "source": [
    "mapping_driver={\n",
    "'A_A':'Volume and margin driver',\n",
    "'A_B':'Volume driver',\n",
    "'A_C':'Volume driver',\n",
    "'C_A':'Margin driver',\n",
    "'B_A':'Margin driver',\n",
    "'B_C':'Regulars',\n",
    "'C_B':'Regulars',\n",
    "'B_B':'Regulars',\n",
    "'C_C':'Slow moving'\n",
    "}"
   ]
  },
  {
   "cell_type": "code",
   "execution_count": 34,
   "metadata": {},
   "outputs": [],
   "source": [
    "abc['drivers']=abc['product_mix'].map(mapping_driver)"
   ]
  },
  {
   "cell_type": "code",
   "execution_count": 35,
   "metadata": {},
   "outputs": [],
   "source": [
    "abc.rename(columns={'skus':'label'},inplace=True)"
   ]
  },
  {
   "cell_type": "code",
   "execution_count": 36,
   "metadata": {},
   "outputs": [],
   "source": [
    "inventory_cal=dataset.groupby('label').agg(demande_avg=('sales',lambda x: x[dataset['status'] != 'out_of_stock'].mean()),\n",
    "sd=('sales','sd'),stock_cost=('Cost', lambda x: x[dataset['Cost']>0].mean()),\n",
    "days_of_sales=('sales', lambda x: x[dataset['sales']>0].count()),\n",
    "days_of_stocks=('begining', lambda x: x[dataset['begining']>0].count()))"
   ]
  },
  {
   "cell_type": "code",
   "execution_count": null,
   "metadata": {},
   "outputs": [],
   "source": [
    "inventory_cal.reset_index(inplace=True)"
   ]
  },
  {
   "cell_type": "code",
   "execution_count": null,
   "metadata": {},
   "outputs": [],
   "source": [
    "inventory_cal['selling_rate_days']=inventory_cal['days_of_sales']/inventory_cal['days_of_stocks']"
   ]
  },
  {
   "cell_type": "code",
   "execution_count": null,
   "metadata": {},
   "outputs": [],
   "source": [
    "inventory_cal=pd.mercge(inventory_cal,abc[['label','sales','revenue','product_mix','deivers']],how='left')"
   ]
  },
  {
   "cell_type": "code",
   "execution_count": null,
   "metadata": {},
   "outputs": [],
   "source": []
  },
  {
   "cell_type": "code",
   "execution_count": null,
   "metadata": {},
   "outputs": [],
   "source": []
  },
  {
   "cell_type": "code",
   "execution_count": null,
   "metadata": {},
   "outputs": [],
   "source": []
  },
  {
   "cell_type": "code",
   "execution_count": null,
   "metadata": {},
   "outputs": [],
   "source": []
  },
  {
   "cell_type": "code",
   "execution_count": null,
   "metadata": {},
   "outputs": [],
   "source": []
  }
 ],
 "metadata": {
  "interpreter": {
   "hash": "9efce205f64ad363cd9f14615485aca38ee4ef0915866e318aa83c8d0c93f6fc"
  },
  "kernelspec": {
   "display_name": "Python 3.10.1 64-bit",
   "language": "python",
   "name": "python3"
  },
  "language_info": {
   "codemirror_mode": {
    "name": "ipython",
    "version": 3
   },
   "file_extension": ".py",
   "mimetype": "text/x-python",
   "name": "python",
   "nbconvert_exporter": "python",
   "pygments_lexer": "ipython3",
   "version": "3.10.1"
  },
  "orig_nbformat": 4
 },
 "nbformat": 4,
 "nbformat_minor": 2
}
